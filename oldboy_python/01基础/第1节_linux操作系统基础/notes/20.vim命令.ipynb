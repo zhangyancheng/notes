{
 "cells": [
  {
   "cell_type": "markdown",
   "metadata": {},
   "source": [
    "### 进入插入模式"
   ]
  },
  {
   "cell_type": "markdown",
   "metadata": {},
   "source": [
    "i：在光标前面插入"
   ]
  },
  {
   "cell_type": "markdown",
   "metadata": {},
   "source": [
    "a：在光标后插入"
   ]
  },
  {
   "cell_type": "markdown",
   "metadata": {},
   "source": [
    "o：另起一行插入"
   ]
  },
  {
   "cell_type": "markdown",
   "metadata": {},
   "source": [
    "大写I：在行首插入"
   ]
  },
  {
   "cell_type": "markdown",
   "metadata": {},
   "source": [
    "大写A：在行末插入"
   ]
  },
  {
   "cell_type": "markdown",
   "metadata": {},
   "source": [
    "大写O：在上一行插入"
   ]
  },
  {
   "cell_type": "markdown",
   "metadata": {},
   "source": [
    "### 复制黏贴剪切"
   ]
  },
  {
   "cell_type": "markdown",
   "metadata": {},
   "source": [
    "yy ： 复制光标所在的这一行"
   ]
  },
  {
   "cell_type": "markdown",
   "metadata": {},
   "source": [
    "4yy ： 复制光标所在行开始向下的4行"
   ]
  },
  {
   "cell_type": "markdown",
   "metadata": {},
   "source": [
    "p ： 黏贴"
   ]
  },
  {
   "cell_type": "markdown",
   "metadata": {},
   "source": [
    "dd : 剪切光标所在的这一行"
   ]
  },
  {
   "cell_type": "markdown",
   "metadata": {},
   "source": [
    "2dd ： 剪切光标所在行向下2行"
   ]
  },
  {
   "cell_type": "markdown",
   "metadata": {},
   "source": [
    "x：删除当前光标，每次只能删除一个（从光标后开始删）"
   ]
  },
  {
   "cell_type": "markdown",
   "metadata": {},
   "source": [
    "X：删除当前光标，每次只能删除一个（从光标前开始删）"
   ]
  },
  {
   "cell_type": "markdown",
   "metadata": {},
   "source": [
    "D：从当前光标开始剪切到行末"
   ]
  },
  {
   "cell_type": "markdown",
   "metadata": {},
   "source": [
    "d0：从当前光标开始剪切到行首"
   ]
  },
  {
   "cell_type": "markdown",
   "metadata": {},
   "source": [
    "u：撤销上一步操作"
   ]
  },
  {
   "cell_type": "markdown",
   "metadata": {},
   "source": [
    "Ctrl+r：反撤销"
   ]
  },
  {
   "cell_type": "markdown",
   "metadata": {},
   "source": [
    "### 移动光标"
   ]
  },
  {
   "cell_type": "markdown",
   "metadata": {},
   "source": [
    "左h 右l 上k 下j"
   ]
  },
  {
   "cell_type": "markdown",
   "metadata": {},
   "source": [
    "大写M：光标移动至当前屏幕的中间"
   ]
  },
  {
   "cell_type": "markdown",
   "metadata": {},
   "source": [
    "大写H：光标移动至当前屏幕的上方"
   ]
  },
  {
   "cell_type": "markdown",
   "metadata": {},
   "source": [
    "大写L：光标移动至当前屏幕的下方"
   ]
  },
  {
   "cell_type": "markdown",
   "metadata": {},
   "source": [
    "Ctrl+f：向下翻一页代码"
   ]
  },
  {
   "cell_type": "markdown",
   "metadata": {},
   "source": [
    "Ctrl+b：向上翻一页代码"
   ]
  },
  {
   "cell_type": "markdown",
   "metadata": {},
   "source": [
    "20G：快速定位到第2行的代码"
   ]
  },
  {
   "cell_type": "markdown",
   "metadata": {},
   "source": [
    "gg：快速的回到整个文件的第一行"
   ]
  },
  {
   "cell_type": "markdown",
   "metadata": {},
   "source": [
    "G：快速的回到整个文件的最后一行"
   ]
  },
  {
   "cell_type": "markdown",
   "metadata": {},
   "source": [
    "w : 向后跳一个单词的长度，到下一个单词的开头"
   ]
  },
  {
   "cell_type": "markdown",
   "metadata": {},
   "source": [
    "b : 向前跳一个单词的长度，到上一个单词的开头"
   ]
  },
  {
   "cell_type": "markdown",
   "metadata": {},
   "source": [
    "### 选中一片代码"
   ]
  },
  {
   "cell_type": "markdown",
   "metadata": {},
   "source": [
    "v:使用v选中光标所在行，再使用上下左右选中一片"
   ]
  },
  {
   "cell_type": "markdown",
   "metadata": {},
   "source": [
    "V:"
   ]
  },
  {
   "cell_type": "markdown",
   "metadata": {},
   "source": [
    ">>向右移动代码"
   ]
  },
  {
   "cell_type": "markdown",
   "metadata": {},
   "source": [
    "<<向左移动代码"
   ]
  },
  {
   "cell_type": "markdown",
   "metadata": {},
   "source": [
    "点 . ： 重复执行命令"
   ]
  },
  {
   "cell_type": "code",
   "execution_count": null,
   "metadata": {},
   "outputs": [],
   "source": []
  }
 ],
 "metadata": {
  "kernelspec": {
   "display_name": "Python 3",
   "language": "python",
   "name": "python3"
  },
  "language_info": {
   "codemirror_mode": {
    "name": "ipython",
    "version": 3
   },
   "file_extension": ".py",
   "mimetype": "text/x-python",
   "name": "python",
   "nbconvert_exporter": "python",
   "pygments_lexer": "ipython3",
   "version": "3.6.0"
  },
  "toc": {
   "nav_menu": {},
   "number_sections": true,
   "sideBar": true,
   "skip_h1_title": false,
   "title_cell": "Table of Contents",
   "title_sidebar": "Contents",
   "toc_cell": false,
   "toc_position": {
    "height": "calc(100% - 180px)",
    "left": "10px",
    "top": "150px",
    "width": "384px"
   },
   "toc_section_display": true,
   "toc_window_display": true
  }
 },
 "nbformat": 4,
 "nbformat_minor": 2
}
