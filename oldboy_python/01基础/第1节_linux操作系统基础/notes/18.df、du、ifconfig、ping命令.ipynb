{
 "cells": [
  {
   "cell_type": "markdown",
   "metadata": {},
   "source": [
    "### 关机重启：rebot、shutdown、init"
   ]
  },
  {
   "cell_type": "markdown",
   "metadata": {},
   "source": [
    "rebot：重新启动操作系统"
   ]
  },
  {
   "cell_type": "markdown",
   "metadata": {},
   "source": [
    "shutdown -r now:重新启动操作系统，shutdown会给其他用户提示"
   ]
  },
  {
   "cell_type": "markdown",
   "metadata": {},
   "source": [
    "shutdown -h 20:25  系统会在今天20:25关机"
   ]
  },
  {
   "cell_type": "markdown",
   "metadata": {},
   "source": [
    "shutdown -h +10 ： 系统再过10分钟后自动关机"
   ]
  },
  {
   "cell_type": "markdown",
   "metadata": {},
   "source": [
    "### 检测磁盘空间：df"
   ]
  },
  {
   "cell_type": "markdown",
   "metadata": {},
   "source": [
    "df -a ：显示所有文件系统的磁盘使用情况"
   ]
  },
  {
   "cell_type": "markdown",
   "metadata": {},
   "source": [
    "df -m ：以1024字节为单位显示"
   ]
  },
  {
   "cell_type": "markdown",
   "metadata": {},
   "source": [
    "df -h"
   ]
  },
  {
   "cell_type": "markdown",
   "metadata": {},
   "source": [
    "### 检测当前文件夹大小：du"
   ]
  },
  {
   "cell_type": "markdown",
   "metadata": {},
   "source": [
    "du -h"
   ]
  },
  {
   "cell_type": "markdown",
   "metadata": {},
   "source": [
    "### 查看或配置网卡信息:ifconfig"
   ]
  },
  {
   "cell_type": "code",
   "execution_count": null,
   "metadata": {},
   "outputs": [],
   "source": []
  }
 ],
 "metadata": {
  "kernelspec": {
   "display_name": "Python 3",
   "language": "python",
   "name": "python3"
  },
  "language_info": {
   "codemirror_mode": {
    "name": "ipython",
    "version": 3
   },
   "file_extension": ".py",
   "mimetype": "text/x-python",
   "name": "python",
   "nbconvert_exporter": "python",
   "pygments_lexer": "ipython3",
   "version": "3.6.0"
  },
  "toc": {
   "nav_menu": {},
   "number_sections": true,
   "sideBar": true,
   "skip_h1_title": false,
   "title_cell": "Table of Contents",
   "title_sidebar": "Contents",
   "toc_cell": false,
   "toc_position": {},
   "toc_section_display": true,
   "toc_window_display": true
  }
 },
 "nbformat": 4,
 "nbformat_minor": 2
}
