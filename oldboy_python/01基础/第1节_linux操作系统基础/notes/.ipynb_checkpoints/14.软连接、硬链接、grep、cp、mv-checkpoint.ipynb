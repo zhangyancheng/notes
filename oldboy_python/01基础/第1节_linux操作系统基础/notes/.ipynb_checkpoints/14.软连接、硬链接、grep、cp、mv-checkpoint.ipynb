{
 "cells": [
  {
   "cell_type": "markdown",
   "metadata": {},
   "source": [
    "### 软链接"
   ]
  },
  {
   "cell_type": "markdown",
   "metadata": {},
   "source": [
    "链接相当于原文件的快捷方式，当原文件删除，软链接也无法查看使用"
   ]
  },
  {
   "cell_type": "markdown",
   "metadata": {},
   "source": [
    "原文件的数据和名称是分开的，软链接指向的是原文件名，当原文件名删除时软链接也无法使用；而硬链接相当于原文件数据又新增了一个名称和原文件名不同分支，不受影响"
   ]
  },
  {
   "cell_type": "markdown",
   "metadata": {},
   "source": [
    "#### 创建软链接"
   ]
  },
  {
   "cell_type": "markdown",
   "metadata": {},
   "source": [
    "创建原文件 touch 1.txt"
   ]
  },
  {
   "cell_type": "markdown",
   "metadata": {},
   "source": [
    "创建软链接  ln -s 1.txt 1-softlink.txt"
   ]
  },
  {
   "cell_type": "markdown",
   "metadata": {},
   "source": [
    "#### 删除原文件"
   ]
  },
  {
   "cell_type": "markdown",
   "metadata": {},
   "source": [
    "删除原文件rm 1.txt；cat 1-softlink.txt 软链接无法查看"
   ]
  },
  {
   "cell_type": "markdown",
   "metadata": {},
   "source": [
    "### 硬链接"
   ]
  },
  {
   "cell_type": "markdown",
   "metadata": {},
   "source": [
    "#### 创建硬链接"
   ]
  },
  {
   "cell_type": "markdown",
   "metadata": {},
   "source": [
    "创建原文件 touch 1.txt"
   ]
  },
  {
   "cell_type": "markdown",
   "metadata": {},
   "source": [
    "创建硬链接  ln 1.txt 1-softlink.txt"
   ]
  },
  {
   "cell_type": "markdown",
   "metadata": {},
   "source": [
    "#### 删除原文件"
   ]
  },
  {
   "cell_type": "markdown",
   "metadata": {},
   "source": [
    "删除原文件rm 1.txt；cat 1-softlink.txt 硬链接可查看"
   ]
  },
  {
   "cell_type": "markdown",
   "metadata": {},
   "source": [
    "### cat"
   ]
  },
  {
   "cell_type": "markdown",
   "metadata": {},
   "source": [
    "#### 查看多个文件内容"
   ]
  },
  {
   "cell_type": "markdown",
   "metadata": {},
   "source": [
    "cat可以查看多个文件内容，按照书写顺序查看，cat 1.txt 2.txt"
   ]
  },
  {
   "cell_type": "markdown",
   "metadata": {},
   "source": [
    "#### cat 重定向"
   ]
  },
  {
   "cell_type": "markdown",
   "metadata": {},
   "source": [
    "cat 1.txt 2.txt > 3.txt：把1和2文件的内容写入3文件中"
   ]
  },
  {
   "cell_type": "markdown",
   "metadata": {},
   "source": [
    "### grep 文本搜索"
   ]
  },
  {
   "cell_type": "markdown",
   "metadata": {},
   "source": [
    "#### 展示搜索结果所在行数"
   ]
  },
  {
   "cell_type": "markdown",
   "metadata": {},
   "source": [
    "grep -n 'log' xxx.txt"
   ]
  },
  {
   "cell_type": "markdown",
   "metadata": {},
   "source": [
    "#### 搜索以指定内容为开头的值"
   ]
  },
  {
   "cell_type": "markdown",
   "metadata": {},
   "source": [
    "grep '^log' xxx.txt：加上^"
   ]
  },
  {
   "cell_type": "markdown",
   "metadata": {},
   "source": [
    "### cp:拷贝文件"
   ]
  },
  {
   "cell_type": "markdown",
   "metadata": {},
   "source": [
    "#### mv剪切粘贴文件"
   ]
  },
  {
   "cell_type": "markdown",
   "metadata": {},
   "source": [
    "mv 1.txt laowang  :1.txt剪切粘贴至laowang文件夹下"
   ]
  },
  {
   "cell_type": "markdown",
   "metadata": {},
   "source": [
    "#### cp复制黏贴文件"
   ]
  },
  {
   "cell_type": "markdown",
   "metadata": {},
   "source": [
    "cp 2.txt laowang  :2.txt复制粘贴至laowang文件夹下"
   ]
  },
  {
   "cell_type": "markdown",
   "metadata": {},
   "source": [
    "#### cp -r复制黏贴文件夹"
   ]
  },
  {
   "cell_type": "markdown",
   "metadata": {},
   "source": [
    "cp A laowang -r  : 文件夹A强制复制粘贴至laowang文件夹下"
   ]
  },
  {
   "cell_type": "code",
   "execution_count": null,
   "metadata": {},
   "outputs": [],
   "source": []
  }
 ],
 "metadata": {
  "kernelspec": {
   "display_name": "Python 3",
   "language": "python",
   "name": "python3"
  },
  "language_info": {
   "codemirror_mode": {
    "name": "ipython",
    "version": 3
   },
   "file_extension": ".py",
   "mimetype": "text/x-python",
   "name": "python",
   "nbconvert_exporter": "python",
   "pygments_lexer": "ipython3",
   "version": "3.5.2"
  },
  "toc": {
   "nav_menu": {},
   "number_sections": true,
   "sideBar": true,
   "skip_h1_title": false,
   "toc_cell": false,
   "toc_position": {},
   "toc_section_display": "block",
   "toc_window_display": true
  }
 },
 "nbformat": 4,
 "nbformat_minor": 2
}
