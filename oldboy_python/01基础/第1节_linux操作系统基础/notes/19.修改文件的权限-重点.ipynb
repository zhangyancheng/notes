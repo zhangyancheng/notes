{
 "cells": [
  {
   "cell_type": "markdown",
   "metadata": {},
   "source": [
    "### 查看权限"
   ]
  },
  {
   "cell_type": "markdown",
   "metadata": {},
   "source": [
    "第一个rw:文件拥有者的权限"
   ]
  },
  {
   "cell_type": "markdown",
   "metadata": {},
   "source": [
    "第二个rw：同组者的权限"
   ]
  },
  {
   "cell_type": "markdown",
   "metadata": {},
   "source": [
    "第三个r：其他用户的权限"
   ]
  },
  {
   "cell_type": "markdown",
   "metadata": {},
   "source": [
    "最前面显示d的为文件夹，显示-为普通文件"
   ]
  },
  {
   "cell_type": "markdown",
   "metadata": {},
   "source": [
    "### 修改权限"
   ]
  },
  {
   "cell_type": "markdown",
   "metadata": {},
   "source": [
    "#### 子母法修改权限"
   ]
  },
  {
   "cell_type": "markdown",
   "metadata": {},
   "source": [
    "u文件拥有者，g同组，o其他"
   ]
  },
  {
   "cell_type": "markdown",
   "metadata": {},
   "source": [
    "chmod u=rwx 2.py：拥有者有可读可写可执行权限"
   ]
  },
  {
   "cell_type": "markdown",
   "metadata": {},
   "source": [
    "chmod u=r,g=r,o=r 2.py：三个都有可读权限"
   ]
  },
  {
   "cell_type": "markdown",
   "metadata": {},
   "source": [
    "chmod u=,g=,o= 2.py：三个无权限"
   ]
  },
  {
   "cell_type": "markdown",
   "metadata": {},
   "source": [
    "#### 数字法修改权限"
   ]
  },
  {
   "cell_type": "markdown",
   "metadata": {},
   "source": [
    "r--->4,w--->2,x--->1,一共有1234567种权限"
   ]
  },
  {
   "cell_type": "markdown",
   "metadata": {},
   "source": [
    "chmod 137 2.py：拥有者u拥有可执行权限，同组者g拥有可读可执行权限，其他人o拥有可读可写可执行权限"
   ]
  },
  {
   "cell_type": "code",
   "execution_count": null,
   "metadata": {},
   "outputs": [],
   "source": []
  }
 ],
 "metadata": {
  "kernelspec": {
   "display_name": "Python 3",
   "language": "python",
   "name": "python3"
  },
  "language_info": {
   "codemirror_mode": {
    "name": "ipython",
    "version": 3
   },
   "file_extension": ".py",
   "mimetype": "text/x-python",
   "name": "python",
   "nbconvert_exporter": "python",
   "pygments_lexer": "ipython3",
   "version": "3.6.0"
  },
  "toc": {
   "nav_menu": {},
   "number_sections": true,
   "sideBar": true,
   "skip_h1_title": false,
   "title_cell": "Table of Contents",
   "title_sidebar": "Contents",
   "toc_cell": false,
   "toc_position": {},
   "toc_section_display": true,
   "toc_window_display": true
  }
 },
 "nbformat": 4,
 "nbformat_minor": 2
}
