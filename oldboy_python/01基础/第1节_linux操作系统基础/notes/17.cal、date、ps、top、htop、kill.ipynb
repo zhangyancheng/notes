{
 "cells": [
  {
   "cell_type": "markdown",
   "metadata": {},
   "source": [
    "### cal、date、ps、top、htop、kill"
   ]
  },
  {
   "cell_type": "markdown",
   "metadata": {},
   "source": [
    "1.cal查看当前日期\n",
    "2.date查看当前时间\n",
    "3.ps -aux查看当前所有进程\n",
    "4.top查看各程序运行状态\n",
    "5.htop查看各程序运行状态\n",
    "6.kill 进程号\n",
    "结束当前进程\n",
    "kill -9 进程号\n",
    "强制结束进程"
   ]
  }
 ],
 "metadata": {
  "kernelspec": {
   "display_name": "Python 3",
   "language": "python",
   "name": "python3"
  },
  "language_info": {
   "codemirror_mode": {
    "name": "ipython",
    "version": 3
   },
   "file_extension": ".py",
   "mimetype": "text/x-python",
   "name": "python",
   "nbconvert_exporter": "python",
   "pygments_lexer": "ipython3",
   "version": "3.6.0"
  },
  "toc": {
   "nav_menu": {},
   "number_sections": true,
   "sideBar": true,
   "skip_h1_title": false,
   "title_cell": "Table of Contents",
   "title_sidebar": "Contents",
   "toc_cell": false,
   "toc_position": {
    "height": "calc(100% - 180px)",
    "left": "10px",
    "top": "150px",
    "width": "384px"
   },
   "toc_section_display": true,
   "toc_window_display": true
  }
 },
 "nbformat": 4,
 "nbformat_minor": 2
}
