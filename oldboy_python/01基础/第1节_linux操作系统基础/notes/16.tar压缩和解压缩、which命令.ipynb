{
 "cells": [
  {
   "cell_type": "markdown",
   "metadata": {},
   "source": [
    "### tar压缩和解压缩、which命令"
   ]
  },
  {
   "cell_type": "markdown",
   "metadata": {},
   "source": [
    "#### 1.tar -cvf打包"
   ]
  },
  {
   "cell_type": "markdown",
   "metadata": {},
   "source": [
    "tar -cvf test.tar *.py\n",
    "打包当前文件夹所有py文件，文件名为test.tar"
   ]
  },
  {
   "cell_type": "markdown",
   "metadata": {},
   "source": [
    "#### 2.tar -xvf解包"
   ]
  },
  {
   "cell_type": "markdown",
   "metadata": {},
   "source": [
    "tar -xvf test.tar\n",
    "解包到当前目录"
   ]
  },
  {
   "cell_type": "markdown",
   "metadata": {},
   "source": [
    "#### 3.tar -zcvf压缩包dao"
   ]
  },
  {
   "cell_type": "markdown",
   "metadata": {},
   "source": [
    "tar -zcvf test.tar.gz *.py\n",
    "打包并压缩当前文件夹所有py文件，文件名为test.tar.gz"
   ]
  },
  {
   "cell_type": "markdown",
   "metadata": {},
   "source": [
    "#### 4.tar -zxvf解压缩包"
   ]
  },
  {
   "cell_type": "markdown",
   "metadata": {},
   "source": [
    "tar -zxvf test.tar.gz\n",
    "解压缩包到当前目录\n",
    "tar -zxvf test.tar.gz -C bin/\n",
    "解压缩包到bin目录下"
   ]
  },
  {
   "cell_type": "markdown",
   "metadata": {},
   "source": [
    "#### 5.tar -jcvf压缩包"
   ]
  },
  {
   "cell_type": "markdown",
   "metadata": {},
   "source": [
    "tar -jcvf test.tar.bz2 *.py\n",
    "打包并压缩当前文件夹所有py文件，文件名为test.tar.bz2"
   ]
  },
  {
   "cell_type": "markdown",
   "metadata": {},
   "source": [
    "#### 6.tar -jxvf解压缩包"
   ]
  },
  {
   "cell_type": "markdown",
   "metadata": {},
   "source": [
    "tar -jxvf test.tar.bz2\n",
    "解压缩包到当前目录"
   ]
  },
  {
   "cell_type": "markdown",
   "metadata": {},
   "source": [
    "#### 7.zip压缩"
   ]
  },
  {
   "cell_type": "markdown",
   "metadata": {},
   "source": [
    "zip test.zip *.py\n",
    "打包并压缩当前文件夹所有py文件，文件名为test.zip"
   ]
  },
  {
   "cell_type": "markdown",
   "metadata": {},
   "source": [
    "#### 8.zip解压缩"
   ]
  },
  {
   "cell_type": "markdown",
   "metadata": {},
   "source": [
    "unzip test.zip \n",
    "解压到当前路径\n",
    "unzip -d ./bin test.zip \n",
    "解压到bin目录下"
   ]
  },
  {
   "cell_type": "markdown",
   "metadata": {},
   "source": [
    "#### 9.压缩优缺点"
   ]
  },
  {
   "cell_type": "markdown",
   "metadata": {},
   "source": [
    ".tar.gz和.tar.bz2压缩最好"
   ]
  },
  {
   "cell_type": "markdown",
   "metadata": {},
   "source": [
    "#### 10.which ps命令所处位置"
   ]
  },
  {
   "cell_type": "code",
   "execution_count": null,
   "metadata": {},
   "outputs": [],
   "source": []
  }
 ],
 "metadata": {
  "kernelspec": {
   "display_name": "Python 3",
   "language": "python",
   "name": "python3"
  },
  "language_info": {
   "codemirror_mode": {
    "name": "ipython",
    "version": 3
   },
   "file_extension": ".py",
   "mimetype": "text/x-python",
   "name": "python",
   "nbconvert_exporter": "python",
   "pygments_lexer": "ipython3",
   "version": "3.6.0"
  },
  "toc": {
   "nav_menu": {},
   "number_sections": true,
   "sideBar": true,
   "skip_h1_title": true,
   "title_cell": "Table of Contents",
   "title_sidebar": "Contents",
   "toc_cell": false,
   "toc_position": {},
   "toc_section_display": true,
   "toc_window_display": true
  }
 },
 "nbformat": 4,
 "nbformat_minor": 2
}
