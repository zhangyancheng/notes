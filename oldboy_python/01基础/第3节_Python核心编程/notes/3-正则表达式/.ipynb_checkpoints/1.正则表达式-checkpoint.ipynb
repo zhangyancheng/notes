{
 "cells": [
  {
   "cell_type": "markdown",
   "metadata": {},
   "source": [
    "### 属性查找"
   ]
  },
  {
   "cell_type": "code",
   "execution_count": null,
   "metadata": {},
   "outputs": [],
   "source": []
  },
  {
   "cell_type": "markdown",
   "metadata": {},
   "source": [
    "### pycharm使用"
   ]
  },
  {
   "cell_type": "code",
   "execution_count": null,
   "metadata": {},
   "outputs": [],
   "source": []
  },
  {
   "cell_type": "markdown",
   "metadata": {},
   "source": [
    "### 正则表达式的引入"
   ]
  },
  {
   "cell_type": "markdown",
   "metadata": {},
   "source": [
    "正则表达式又称正规表达式，使用单个字符串来描述、匹配一系列匹配某个句法规则的字符串，regular expression"
   ]
  },
  {
   "cell_type": "markdown",
   "metadata": {},
   "source": [
    "### re模块的基本使用"
   ]
  },
  {
   "cell_type": "markdown",
   "metadata": {},
   "source": [
    "re.match是用来进行正则匹配检查的方法，若字符串匹配正则表达式，则match方法返回匹配对象，否则返回none(\"\")"
   ]
  },
  {
   "cell_type": "code",
   "execution_count": null,
   "metadata": {},
   "outputs": [],
   "source": [
    "import re\n",
    "#使用match方法进行匹配操作\n",
    "result = re.match(正则表达式,要匹配的字符串)\n",
    "#如果上一步匹配到数据的话，可以使用group方法来提取数据\n",
    "result.group()"
   ]
  },
  {
   "cell_type": "markdown",
   "metadata": {},
   "source": [
    "### 正则字符集描述"
   ]
  },
  {
   "cell_type": "code",
   "execution_count": null,
   "metadata": {},
   "outputs": [],
   "source": [
    "字符          功能\n",
    ".           匹配任意一个字符（除了\\n）\n",
    "[]          匹配[]中列举的字符\n",
    "\\d          匹配数字，即0-9\n",
    "\\D          匹配非数字，即不是数字\n",
    "\\s          匹配空白，即空格，tab键\n",
    "\\S          匹配非空白\n",
    "\\w          匹配单词字符，即a-z,A-Z,0-9\n",
    "\\W          匹配非单词字符"
   ]
  },
  {
   "cell_type": "code",
   "execution_count": null,
   "metadata": {},
   "outputs": [],
   "source": [
    "import re\n",
    "re.match(\"...\", \"abc\")\n",
    "\n",
    "re.match(\"\\d\", \"2\")\n",
    "\n",
    "re.match(\"\\s\", \"\\na\")\n",
    "\n",
    "re.match(\"\\w\", \"1a\")"
   ]
  },
  {
   "cell_type": "markdown",
   "metadata": {},
   "source": [
    "### match匹配方法"
   ]
  },
  {
   "cell_type": "markdown",
   "metadata": {},
   "source": [
    "从做到右开始匹配"
   ]
  },
  {
   "cell_type": "markdown",
   "metadata": {},
   "source": [
    "### 正则数量描述"
   ]
  },
  {
   "cell_type": "code",
   "execution_count": 2,
   "metadata": {},
   "outputs": [
    {
     "data": {
      "text/plain": [
       "<_sre.SRE_Match object; span=(0, 11), match='15868147456'>"
      ]
     },
     "execution_count": 2,
     "metadata": {},
     "output_type": "execute_result"
    }
   ],
   "source": [
    "#匹配手机号\n",
    "import re\n",
    "re.match(\"1[34578]\",\"18\")  \n",
    "re.match(\"1[^34578]\",\"18\")  #方括号匹配取反\n",
    "re.match(\"1[a-z0-9]\",\"18\")  #匹配a-z或0-9的字符串\n",
    "\n",
    "re.match(\"1[34578]\\d{9}\",\"15868147456\") #匹配手机号"
   ]
  },
  {
   "cell_type": "code",
   "execution_count": null,
   "metadata": {},
   "outputs": [],
   "source": [
    "字符          功能\n",
    "*           匹配前一个字符出现0次或者无限次，即可有可无\n",
    "+           匹配前一个字符出现1次或者无限次，即至少1次\n",
    "？          匹配前一个字符出现一次或者0次，即要么1次要么没有\n",
    "{m}         匹配前一个字符出现m次\n",
    "{m,}        匹配前一个字符至少出现m次\n",
    "{m,n}       匹配前一个字符出现m到n次"
   ]
  },
  {
   "cell_type": "markdown",
   "metadata": {},
   "source": [
    "### 正则分组"
   ]
  },
  {
   "cell_type": "markdown",
   "metadata": {},
   "source": [
    "#### 表示边界"
   ]
  },
  {
   "cell_type": "code",
   "execution_count": null,
   "metadata": {},
   "outputs": [],
   "source": [
    "字符          功能\n",
    "^           匹配字符串开头\n",
    "$           匹配字符串结尾\n",
    "\\b          匹配一个单词的边界\n",
    "\\B          匹配非单词边界"
   ]
  },
  {
   "cell_type": "code",
   "execution_count": 3,
   "metadata": {},
   "outputs": [
    {
     "data": {
      "text/plain": [
       "<_sre.SRE_Match object; span=(0, 5), match='ho ve'>"
      ]
     },
     "execution_count": 3,
     "metadata": {},
     "output_type": "execute_result"
    }
   ],
   "source": [
    "import re\n",
    "re.match(\"^1[34578]\\d{9}$\",\"15868147456\")  #匹配以1开头且9位数字结尾的手机号\n",
    "re.match(r\"^\\w+\\s\\bve\\b\",\"ho ve r\")        #匹配ve为边界\n",
    "re.match(r\"^\\w+\\s\\bve\\B\",\"ho ver\")        #匹配e为非边界"
   ]
  },
  {
   "cell_type": "markdown",
   "metadata": {},
   "source": [
    "#### 匹配分组"
   ]
  },
  {
   "cell_type": "code",
   "execution_count": null,
   "metadata": {},
   "outputs": [],
   "source": [
    "字符          功能\n",
    "|           匹配左右任意一个表达式\n",
    "(ab)        将括号中字符作为一个分组\n",
    "\\num        引用分组num匹配到的字符串\n",
    "(?P<name>)  分组起别名\n",
    "(?P=name)   引用别名为name分组匹配到的字符串"
   ]
  },
  {
   "cell_type": "code",
   "execution_count": 9,
   "metadata": {},
   "outputs": [],
   "source": [
    "import re\n",
    "re.match(r\"[1-9]?\\d?$|100$\",\"匹配0-100的数字\")\n",
    "\n",
    "result = re.match(r\"<h1>(.*)</h1>\",\"<h1>匹配分组</h1>\")\n",
    "result.group(1)   #提取正则表达式里的第一组括号里面的值\n",
    "\n",
    "result = re.match(r\"(<h1>).*(</h1>)\",\"<h1>匹配分组</h1>\")\n",
    "result.groups()   #提取正则表达式里的所有括号里面的值"
   ]
  },
  {
   "cell_type": "code",
   "execution_count": 15,
   "metadata": {},
   "outputs": [
    {
     "data": {
      "text/plain": [
       "<_sre.SRE_Match object; span=(0, 28), match='<html><h1>itcast</h1></html>'>"
      ]
     },
     "execution_count": 15,
     "metadata": {},
     "output_type": "execute_result"
    }
   ],
   "source": [
    "#引用分组num匹配到的字符串，分组重命名\n",
    "s = \"<html><h1>itcast</h1></html>\"\n",
    "#因为标签值有一样的，\\2和\\1表示拿到第二个和第一个括号里的值\n",
    "re.match(r\"<(.+)><(.+)>.+</\\2></\\1>\",s) \n",
    "#分组重命名，引用别名为name分组匹配到的字符串\n",
    "re.match(r\"<(?P<key1>.+)><(?P<key2>.+)>.+</(?P=key2)></(?P=key1)>\",s)   \n"
   ]
  },
  {
   "cell_type": "code",
   "execution_count": 16,
   "metadata": {},
   "outputs": [
    {
     "data": {
      "text/plain": [
       "'itcast'"
      ]
     },
     "execution_count": 16,
     "metadata": {},
     "output_type": "execute_result"
    }
   ],
   "source": [
    "#匹配邮箱\n",
    "import re\n",
    "#\\.用转移符，括号里面为一个模块，最后结尾没东西用到$，第一个括号用来提取\n",
    "p = r\"(\\w+)@(163|126|gmail|qq)\\.(com|net|cn)$\"   \n",
    "r = re.match(p,\"itcast@qq.com\")\n",
    "r.group(1)"
   ]
  },
  {
   "cell_type": "markdown",
   "metadata": {},
   "source": [
    "### re的高级用法"
   ]
  },
  {
   "cell_type": "markdown",
   "metadata": {},
   "source": [
    "#### search"
   ]
  },
  {
   "cell_type": "markdown",
   "metadata": {},
   "source": [
    "search匹配只要字符串里有就能匹配上，而match是从左到右开始匹配"
   ]
  },
  {
   "cell_type": "code",
   "execution_count": null,
   "metadata": {},
   "outputs": [],
   "source": [
    "import re\n",
    "s = \"<html><h1>itcast</h1></html>\"\n",
    "re.search(r\"itcast\",s)    #字符串里有itcast就能匹配到"
   ]
  },
  {
   "cell_type": "markdown",
   "metadata": {},
   "source": [
    "#### sub"
   ]
  },
  {
   "cell_type": "markdown",
   "metadata": {},
   "source": [
    "将匹配到的数据进行替换"
   ]
  },
  {
   "cell_type": "code",
   "execution_count": 17,
   "metadata": {},
   "outputs": [
    {
     "data": {
      "text/plain": [
       "'itcast python cpp python python python'"
      ]
     },
     "execution_count": 17,
     "metadata": {},
     "output_type": "execute_result"
    }
   ],
   "source": [
    "import re\n",
    "#re.sub(r\"被替换的字符\",\"要替换的字符\",\"itcast python cpp php python php\")\n",
    "re.sub(r\"php\",\"python\",\"itcast python cpp php python php\")"
   ]
  },
  {
   "cell_type": "code",
   "execution_count": 21,
   "metadata": {},
   "outputs": [
    {
     "name": "stdout",
     "output_type": "stream",
     "text": [
      "1000\n",
      "0\n"
     ]
    },
    {
     "data": {
      "text/plain": [
       "'python=1050,php=50'"
      ]
     },
     "execution_count": 21,
     "metadata": {},
     "output_type": "execute_result"
    }
   ],
   "source": [
    "#Python和PHP的值加100\n",
    "import re\n",
    "def replace(result):   #result为匹配到的字符串\n",
    "    print(result.group())\n",
    "    r = int(result.group()) + 50    #先转换为整型\n",
    "    return str(r)                  #转换为字符串\n",
    "re.sub(r\"\\d+\",replace,\"python=1000,php=0\")  "
   ]
  },
  {
   "cell_type": "markdown",
   "metadata": {},
   "source": [
    "### 贪婪模式"
   ]
  },
  {
   "cell_type": "code",
   "execution_count": null,
   "metadata": {},
   "outputs": [],
   "source": []
  }
 ],
 "metadata": {
  "kernelspec": {
   "display_name": "Python 3",
   "language": "python",
   "name": "python3"
  },
  "language_info": {
   "codemirror_mode": {
    "name": "ipython",
    "version": 3
   },
   "file_extension": ".py",
   "mimetype": "text/x-python",
   "name": "python",
   "nbconvert_exporter": "python",
   "pygments_lexer": "ipython3",
   "version": "3.6.0"
  },
  "toc": {
   "nav_menu": {},
   "number_sections": true,
   "sideBar": true,
   "skip_h1_title": false,
   "title_cell": "Table of Contents",
   "title_sidebar": "Contents",
   "toc_cell": false,
   "toc_position": {
    "height": "calc(100% - 180px)",
    "left": "10px",
    "top": "150px",
    "width": "429px"
   },
   "toc_section_display": true,
   "toc_window_display": true
  }
 },
 "nbformat": 4,
 "nbformat_minor": 2
}
