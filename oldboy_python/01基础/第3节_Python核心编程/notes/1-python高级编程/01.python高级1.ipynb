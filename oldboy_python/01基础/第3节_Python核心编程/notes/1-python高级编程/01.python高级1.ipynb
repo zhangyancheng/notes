{
 "cells": [
  {
   "cell_type": "markdown",
   "metadata": {},
   "source": [
    "### 模块重新导入"
   ]
  },
  {
   "cell_type": "markdown",
   "metadata": {},
   "source": [
    "当想导入的模块不在当前路径，可以先加入路径，之后用import就不用写路径了"
   ]
  },
  {
   "cell_type": "code",
   "execution_count": null,
   "metadata": {},
   "outputs": [],
   "source": [
    "import xxx\n",
    "import sys\n",
    "sys.path.append(\"../\")"
   ]
  },
  {
   "cell_type": "markdown",
   "metadata": {},
   "source": [
    "重新导入：当一个模块被调用使用，在此之间模块已经被更改，使用from imp import * 再执行reload(test)对这个模块重新导入在使用test.Test()"
   ]
  },
  {
   "cell_type": "markdown",
   "metadata": {},
   "source": [
    "### 模块循环导入问题"
   ]
  },
  {
   "cell_type": "markdown",
   "metadata": {},
   "source": [
    "为了防止每个模块互调造成死循环，写一个主模块单独来调其他子模块"
   ]
  },
  {
   "cell_type": "markdown",
   "metadata": {},
   "source": [
    "### ==、is的区别"
   ]
  },
  {
   "cell_type": "code",
   "execution_count": 3,
   "metadata": {},
   "outputs": [
    {
     "data": {
      "text/plain": [
       "True"
      ]
     },
     "execution_count": 3,
     "metadata": {},
     "output_type": "execute_result"
    }
   ],
   "source": [
    "a = [11,22,33]\n",
    "b = [11,22,33]\n",
    "a == b   #比较两个值是否相同，返回为true\n",
    "a is b   #两个值是否是同一个，返回为false\n",
    "c = a\n",
    "a is c   #c和a指向同一个值，返回为true"
   ]
  },
  {
   "cell_type": "code",
   "execution_count": 4,
   "metadata": {},
   "outputs": [
    {
     "data": {
      "text/plain": [
       "True"
      ]
     },
     "execution_count": 4,
     "metadata": {},
     "output_type": "execute_result"
    }
   ],
   "source": [
    "#一个负数到120之间用is返回都为true\n",
    "a = 100\n",
    "b = 100\n",
    "a is b"
   ]
  },
  {
   "cell_type": "markdown",
   "metadata": {},
   "source": [
    "### 深拷贝和浅拷贝"
   ]
  },
  {
   "cell_type": "code",
   "execution_count": null,
   "metadata": {},
   "outputs": [],
   "source": [
    "#浅拷贝，a和b指向同一个id为浅拷贝\n",
    "a = [11,22,33]\n",
    "b = a\n",
    "id(a)\n",
    "id(b)"
   ]
  },
  {
   "cell_type": "code",
   "execution_count": null,
   "metadata": {},
   "outputs": [],
   "source": [
    "#深拷贝，a和b是两个不同id的值\n",
    "import copy\n",
    "a = [11,22,33]\n",
    "c = copy.deepcopy(a)\n",
    "id(a)\n",
    "id(c)\n"
   ]
  },
  {
   "cell_type": "markdown",
   "metadata": {},
   "source": [
    "copy是只拷贝第一层，当被拷贝的值发生改变，已拷贝的值也发生改变；deepcopy拷贝最里面层，当被拷贝的值发生改变，已拷贝的值不会发生改变"
   ]
  },
  {
   "cell_type": "markdown",
   "metadata": {},
   "source": [
    "### property的使用-1"
   ]
  },
  {
   "cell_type": "code",
   "execution_count": null,
   "metadata": {},
   "outputs": [],
   "source": [
    "#方法一\n",
    "class Test(object):\n",
    "    def __init__(self):\n",
    "       self.__num = 100\n",
    "\n",
    "    def setNum(self, newNum):\n",
    "        print(\"----setter----\")\n",
    "        self.__num = newNum\n",
    "\n",
    "    def getNum(self):\n",
    "        print(\"----getter----\")\n",
    "        return self.__num\n",
    "\n",
    "    num = property(getNum, setNum)\n",
    "\n",
    "\n",
    "t = Test()\n",
    "#print(t.__num)\n",
    "#t.__num = 200\n",
    "\n",
    "#print(t.getNum())\n",
    "#t.setNum(50)\n",
    "#print(t.getNum())\n",
    "\n",
    "print(\"-\"*50)\n",
    "\n",
    "t.num = 200 #相当于调用了 t.setNum(200)\n",
    "\n",
    "print(t.num) #相当于调用了 t.getNum()\n",
    "\n",
    "#注意点:\n",
    "#t.num 到底是调用getNum()还是setNum(),要根据实际的场景来判断,\n",
    "#1. 如果是给t.num赋值 那么一定调用setNum()\n",
    "#2. 如果是获取t.num的值,那么就一定调用getNum()\n",
    "#\n",
    "#property的作用:相当于把方法进行了封装, 开发者在对属性设置数据的时候更方便"
   ]
  },
  {
   "cell_type": "code",
   "execution_count": null,
   "metadata": {},
   "outputs": [],
   "source": [
    "#方法二，使用装饰器\n",
    "class Test(object):\n",
    "    def __init__(self):\n",
    "       self.__num = 100\n",
    "\n",
    "    @property\n",
    "    def num(self):\n",
    "        print(\"----getter----\")\n",
    "        return self.__num\n",
    "\n",
    "    @num.setter\n",
    "    def num(self, newNum):\n",
    "        print(\"----setter----\")\n",
    "        self.__num = newNum\n",
    "\n",
    "t = Test()\n",
    "\n",
    "t.num = 200 #相当于调用了 t.setNum(200)  设置值\n",
    "\n",
    "print(t.num) #相当于调用了 t.getNum()    取值\n"
   ]
  }
 ],
 "metadata": {
  "kernelspec": {
   "display_name": "Python 3",
   "language": "python",
   "name": "python3"
  },
  "language_info": {
   "codemirror_mode": {
    "name": "ipython",
    "version": 3
   },
   "file_extension": ".py",
   "mimetype": "text/x-python",
   "name": "python",
   "nbconvert_exporter": "python",
   "pygments_lexer": "ipython3",
   "version": "3.6.0"
  },
  "toc": {
   "nav_menu": {},
   "number_sections": true,
   "sideBar": true,
   "skip_h1_title": false,
   "title_cell": "Table of Contents",
   "title_sidebar": "Contents",
   "toc_cell": false,
   "toc_position": {},
   "toc_section_display": true,
   "toc_window_display": true
  }
 },
 "nbformat": 4,
 "nbformat_minor": 2
}
