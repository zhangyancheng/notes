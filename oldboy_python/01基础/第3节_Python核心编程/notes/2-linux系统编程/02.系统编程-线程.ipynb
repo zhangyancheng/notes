{
 "cells": [
  {
   "cell_type": "markdown",
   "metadata": {},
   "source": [
    "### 使用thread完成多线程-第一种方式"
   ]
  },
  {
   "cell_type": "markdown",
   "metadata": {},
   "source": [
    "python的thread模块是比较底层的模块，python的threading模块对thread做了一些包装的，可以更加方便的使用"
   ]
  },
  {
   "cell_type": "markdown",
   "metadata": {},
   "source": [
    "只要进程运行起来，里面会有一个主线程（运行的位置）"
   ]
  },
  {
   "cell_type": "code",
   "execution_count": null,
   "metadata": {},
   "outputs": [],
   "source": [
    "from threading import Thread\n",
    "import time\n",
    "\n",
    "#1. 如果多个线程执行的都是同一个函数的话，各自之间不会有影响，各是个的\n",
    "#子线程在此运行\n",
    "def test():\n",
    "    print(\"----昨晚喝多了，下次少喝点---\")\n",
    "    time.sleep(1)\n",
    "\n",
    "#主线程在此运行创建了5个子线程，等子线程全部运行完主线程才会结束\n",
    "for i in range(5):\n",
    "    t = Thread(target=test)\n",
    "    t.start()  #线程开始启动"
   ]
  },
  {
   "cell_type": "markdown",
   "metadata": {},
   "source": [
    "### 使用thread子类完成创建子线程-第二种方式"
   ]
  },
  {
   "cell_type": "code",
   "execution_count": 1,
   "metadata": {},
   "outputs": [
    {
     "name": "stdout",
     "output_type": "stream",
     "text": [
      "I'm Thread-6 @ 0\n",
      "I'm Thread-6 @ 1\n",
      "I'm Thread-6 @ 2\n"
     ]
    }
   ],
   "source": [
    "import threading\n",
    "import time\n",
    "\n",
    "class MyThread(threading.Thread):\n",
    "    def run(self):\n",
    "        for i in range(3):\n",
    "            time.sleep(1)\n",
    "            msg = \"I'm \"+self.name+' @ '+str(i) #name属性中保存的是当前线程的名字\n",
    "            print(msg)\n",
    "\n",
    "\n",
    "if __name__ == '__main__':\n",
    "    t = MyThread()\n",
    "    t.start()"
   ]
  },
  {
   "cell_type": "markdown",
   "metadata": {},
   "source": [
    "### 线程的执行顺序"
   ]
  },
  {
   "cell_type": "markdown",
   "metadata": {},
   "source": [
    "执行顺序由操作系统调度决定，是无序的"
   ]
  },
  {
   "cell_type": "markdown",
   "metadata": {},
   "source": [
    "### 多线程使用全局变量"
   ]
  },
  {
   "cell_type": "code",
   "execution_count": null,
   "metadata": {},
   "outputs": [],
   "source": [
    "from threading import Thread\n",
    "import time\n",
    "\n",
    "#线程之间共享全局变量\n",
    "g_num = 100\n",
    "\n",
    "def work1():\n",
    "    global g_num\n",
    "    for i in range(3):\n",
    "        g_num += 1\n",
    "\n",
    "    print(\"----in work1, g_num is %d---\"%g_num)\n",
    "\n",
    "\n",
    "def work2():\n",
    "    global g_num\n",
    "    print(\"----in work2, g_num is %d---\"%g_num)\n",
    "\n",
    "\n",
    "print(\"---线程创建之前g_num is %d---\"%g_num)\n",
    "\n",
    "t1 = Thread(target=work1)\n",
    "t1.start()\n",
    "\n",
    "#延时一会，保证t1线程中的事情做完\n",
    "time.sleep(1)\n",
    "\n",
    "t2 = Thread(target=work2)\n",
    "t2.start()"
   ]
  },
  {
   "cell_type": "markdown",
   "metadata": {},
   "source": [
    "### 线程共享全局变量的问题"
   ]
  },
  {
   "cell_type": "markdown",
   "metadata": {},
   "source": [
    "两个线程同时走数据不准确原因：一个线程还没执行完就执行下一个，改变了全局变量"
   ]
  },
  {
   "cell_type": "code",
   "execution_count": 2,
   "metadata": {},
   "outputs": [
    {
     "name": "stdout",
     "output_type": "stream",
     "text": [
      "---g_num=49596---\n",
      "---test1---g_num=1135315\n",
      "---test2---g_num=1311886\n"
     ]
    }
   ],
   "source": [
    "#两个线程间不加等待时间，最后打印出来的值为100多万；如果加上等待时间第一个线程打印100完，第二个线程打印200正确\n",
    "from threading import Thread\n",
    "import time\n",
    "\n",
    "g_num = 0\n",
    "\n",
    "def test1():\n",
    "    global g_num\n",
    "    for i in range(1000000):\n",
    "        g_num += 1\n",
    "\n",
    "    print(\"---test1---g_num=%d\"%g_num)\n",
    "\n",
    "def test2():\n",
    "    global g_num\n",
    "    for i in range(1000000):\n",
    "        g_num += 1\n",
    "\n",
    "    print(\"---test2---g_num=%d\"%g_num)\n",
    "\n",
    "\n",
    "p1 = Thread(target=test1)\n",
    "p1.start()\n",
    "\n",
    "#time.sleep(3) #取消屏蔽之后 再次运行程序，结果会不一样，，，为啥呢？\n",
    "\n",
    "p2 = Thread(target=test2)\n",
    "p2.start()\n",
    "\n",
    "print(\"---g_num=%d---\"%g_num)"
   ]
  },
  {
   "cell_type": "markdown",
   "metadata": {},
   "source": [
    "### 避免全局变量被修改的方式1（避免多线程对共享数据出错的方式）"
   ]
  },
  {
   "cell_type": "markdown",
   "metadata": {},
   "source": [
    "此方法因为没用到线程二但一直轮循，会占用CPU"
   ]
  },
  {
   "cell_type": "code",
   "execution_count": 1,
   "metadata": {},
   "outputs": [
    {
     "name": "stdout",
     "output_type": "stream",
     "text": [
      "---g_num=117686---\n",
      "---test1---g_num=1000000\n",
      "---test2---g_num=2000000\n"
     ]
    }
   ],
   "source": [
    "#加上g_flag判断使得线程一执行完再执行线程二\n",
    "from threading import Thread\n",
    "import time\n",
    "\n",
    "g_num = 0\n",
    "g_flag = 1\n",
    "\n",
    "def test1():\n",
    "    global g_num\n",
    "    global g_flag\n",
    "    if g_flag == 1:\n",
    "        for i in range(1000000):\n",
    "            g_num += 1\n",
    "\n",
    "        g_flag = 0\n",
    "\n",
    "    print(\"---test1---g_num=%d\"%g_num)\n",
    "\n",
    "def test2():\n",
    "    global g_numg_flag = 0\n",
    "    #轮询，加while循环一直判断g_flag满不满足，因为不知道第一个线程什么时候输出g_flag为0；如果不加g_flag只会判断一次\n",
    "    while True:\n",
    "        if g_flag != 1:\n",
    "            for i in range(1000000):\n",
    "                g_num += 1\n",
    "            break\n",
    "\n",
    "    print(\"---test2---g_num=%d\"%g_num)\n",
    "\n",
    "\n",
    "p1 = Thread(target=test1)\n",
    "p1.start()\n",
    "\n",
    "#time.sleep(3) #取消屏蔽之后 再次运行程序，结果会不一样，，，为啥呢？\n",
    "\n",
    "p2 = Thread(target=test2)\n",
    "p2.start()\n",
    "\n",
    "print(\"---g_num=%d---\"%g_num)"
   ]
  },
  {
   "cell_type": "markdown",
   "metadata": {},
   "source": [
    "### 避免全局变量被修改的方式2--互斥锁"
   ]
  },
  {
   "cell_type": "markdown",
   "metadata": {},
   "source": [
    "某个线程要更改共享数据时，先将其锁定，此时资源的状态为“锁定”，其他线程不能更改；直到该线程释放资源，将资源的状态变成“非锁定”，其他的线程才能再次锁定该资源。"
   ]
  },
  {
   "cell_type": "code",
   "execution_count": 2,
   "metadata": {},
   "outputs": [
    {
     "name": "stdout",
     "output_type": "stream",
     "text": [
      "---g_num=116250---\n",
      "---test1---g_num=1000000\n",
      "---test2---g_num=2000000\n"
     ]
    }
   ],
   "source": [
    "from threading import Thread, Lock\n",
    "import time\n",
    "\n",
    "g_num = 0\n",
    "\n",
    "def test1():\n",
    "    global g_num\n",
    "    #这个线程和ｔｅｓｔ2线程都在抢着　对这个锁　进行上锁，如果有１方成功的上锁，那么导致另外\n",
    "    #一方会堵塞（一直等待）到这个锁被解开为止\n",
    "    mutex.acquire()\n",
    "    for i in range(1000000):\n",
    "        g_num += 1\n",
    "    mutex.release()#用来对mutex指向的这个锁　进行解锁，，，只要开了锁，那么接下来会让所有因为\n",
    "                    #这个锁　被上了锁　而堵塞的线程　进行抢着上锁\n",
    "\n",
    "    print(\"---test1---g_num=%d\"%g_num)\n",
    "\n",
    "def test2():\n",
    "    global g_num\n",
    "    mutex.acquire()\n",
    "    for i in range(1000000):\n",
    "        g_num += 1\n",
    "    mutex.release()\n",
    "\n",
    "    print(\"---test2---g_num=%d\"%g_num)\n",
    "\n",
    "#创建一把互斥锁，这个锁默认是没有上锁的\n",
    "mutex = Lock()\n",
    "\n",
    "p1 = Thread(target=test1)\n",
    "p1.start()\n",
    "\n",
    "#time.sleep(3) #取消屏蔽之后 再次运行程序，结果会不一样，，，为啥呢？\n",
    "\n",
    "p2 = Thread(target=test2)\n",
    "p2.start()\n",
    "\n",
    "print(\"---g_num=%d---\"%g_num)"
   ]
  },
  {
   "cell_type": "markdown",
   "metadata": {},
   "source": [
    "### 多个线程使用非全局变量"
   ]
  },
  {
   "cell_type": "code",
   "execution_count": 3,
   "metadata": {},
   "outputs": [
    {
     "name": "stdout",
     "output_type": "stream",
     "text": [
      "----thread name is Thread-10 ----\n",
      "----thread name is Thread-11 ----\n",
      "--thread is Thread-10----g_num=100\n",
      "--thread is Thread-11----g_num=100\n"
     ]
    }
   ],
   "source": [
    "from threading import Thread\n",
    "import threading\n",
    "import time\n",
    "\n",
    "def test1():\n",
    "    #注意：\n",
    "    #   1. 全局变量在多个线程中　共享，为了保证正确运行需要锁\n",
    "    #   2. 非全局变量在每个线程中　各有一份，不会共享，当然了不需要加锁\n",
    "    name = threading.current_thread().name\n",
    "    print(\"----thread name is %s ----\"%name)\n",
    "    g_num = 100\n",
    "    if name == \"Thread-1\": \n",
    "        g_num += 1\n",
    "    else:\n",
    "        time.sleep(2)\n",
    "    print(\"--thread is %s----g_num=%d\"%(name,g_num))\n",
    "\n",
    "#def test2():\n",
    "#    time.sleep(1)\n",
    "#    g_num = 100\n",
    "#    print(\"---test2---g_num=%d\"%g_num)\n",
    "\n",
    "\n",
    "p1 = Thread(target=test1)\n",
    "p1.start()\n",
    "\n",
    "p2 = Thread(target=test1)\n",
    "p2.start()"
   ]
  },
  {
   "cell_type": "markdown",
   "metadata": {},
   "source": [
    "### 死锁以及解决办法"
   ]
  },
  {
   "cell_type": "markdown",
   "metadata": {},
   "source": [
    "在线程间共享多个资源的时候，如果两个线程分别占用一部分资源并且同时等待对方的资源，就会造成死锁"
   ]
  },
  {
   "cell_type": "markdown",
   "metadata": {},
   "source": [
    "解决方法："
   ]
  },
  {
   "cell_type": "markdown",
   "metadata": {},
   "source": [
    "### 同步的理解以及使用"
   ]
  },
  {
   "cell_type": "markdown",
   "metadata": {},
   "source": [
    "同步就是协同步调，按预定的先后顺序进行运行"
   ]
  },
  {
   "cell_type": "code",
   "execution_count": null,
   "metadata": {
    "scrolled": true
   },
   "outputs": [],
   "source": [
    "#通过添加多个互斥锁来控制多个线程的执行顺序，解锁才能执行下一把锁\n",
    "from threading import Thread,Lock\n",
    "from time import sleep\n",
    "\n",
    "class Task1(Thread):\n",
    "    def run(self):\n",
    "        while True:\n",
    "            if lock1.acquire():\n",
    "                print(\"------Task 1 -----\")\n",
    "                sleep(0.5)\n",
    "                lock2.release()\n",
    "\n",
    "class Task2(Thread):\n",
    "    def run(self):\n",
    "        while True:\n",
    "            if lock2.acquire():\n",
    "                print(\"------Task 2 -----\")\n",
    "                sleep(0.5)\n",
    "                lock3.release()\n",
    "\n",
    "class Task3(Thread):\n",
    "    def run(self):\n",
    "        while True:\n",
    "            if lock3.acquire():\n",
    "                print(\"------Task 3 -----\")\n",
    "                sleep(0.5)\n",
    "                lock1.release()\n",
    "\n",
    "#使用Lock创建出的锁默认没有“锁上”\n",
    "lock1 = Lock()\n",
    "#创建另外一把锁，并且“锁上”\n",
    "lock2 = Lock()\n",
    "lock2.acquire()\n",
    "#创建另外一把锁，并且“锁上”\n",
    "lock3 = Lock()\n",
    "lock3.acquire()\n",
    "\n",
    "t1 = Task1()\n",
    "t2 = Task2()\n",
    "t3 = Task3()\n",
    "\n",
    "t1.start()\n",
    "t2.start()\n",
    "t3.start()"
   ]
  },
  {
   "cell_type": "markdown",
   "metadata": {},
   "source": [
    "### 生产者与消费者来解决耦合的问题"
   ]
  },
  {
   "cell_type": "markdown",
   "metadata": {},
   "source": [
    "队列：先进先出。栈：先进后出"
   ]
  },
  {
   "cell_type": "markdown",
   "metadata": {},
   "source": [
    "比如爬虫，当抓数据和处理数据速度不一致时，就要用到生产者与消费者模式来处理，用队列、缓冲池等"
   ]
  },
  {
   "cell_type": "markdown",
   "metadata": {},
   "source": [
    "#### 用FIFO队列实现生产者与消费者速度不一致的问题"
   ]
  },
  {
   "cell_type": "markdown",
   "metadata": {},
   "source": [
    "Python的Queue模块中提供了同步的、线程安全的队列类，包括FIFO(先入先出)队列Queue，LIFO(后入先出)队列LifoQueue,和优先级队列PriorityQueue。能在多线程中直接使用，可以使用队列来实现线程间的同步"
   ]
  },
  {
   "cell_type": "markdown",
   "metadata": {},
   "source": [
    "解耦：把程序模块化，对象之间的耦合越高，维护成本越高，尽可能减少代码耦合。"
   ]
  },
  {
   "cell_type": "code",
   "execution_count": null,
   "metadata": {},
   "outputs": [],
   "source": [
    "#encoding=utf-8\n",
    "import threading\n",
    "import time\n",
    "\n",
    "#python2中\n",
    "#from Queue import Queue\n",
    "\n",
    "#python3中\n",
    "from queue import Queue\n",
    "\n",
    "class Producer(threading.Thread):\n",
    "    def run(self):\n",
    "        global queue\n",
    "        count = 0\n",
    "        while True:\n",
    "            if queue.qsize() < 1000:    #只要里面数据小于1000，2条线程就会生成数据\n",
    "                for i in range(100):\n",
    "                    count = count +1\n",
    "                    msg = '生成产品'+str(count)\n",
    "                    queue.put(msg)              #从外面加进来\n",
    "                    print(msg)\n",
    "            time.sleep(0.5)\n",
    "\n",
    "class Consumer(threading.Thread):\n",
    "    def run(self):\n",
    "        global queue\n",
    "        while True:\n",
    "            if queue.qsize() > 100:  #只要里面数据大于100，5条线程就去消费里面的数据\n",
    "                for i in range(3):\n",
    "                    msg = self.name + '消费了 '+queue.get()  #从里面获取\n",
    "                    print(msg)\n",
    "            time.sleep(1)\n",
    "\n",
    "\n",
    "if __name__ == '__main__':\n",
    "    queue = Queue()\n",
    "\n",
    "    for i in range(500):\n",
    "        queue.put('初始产品'+str(i))\n",
    "    for i in range(2):   #创建2条线程\n",
    "        p = Producer()\n",
    "        p.start()\n",
    "    for i in range(5):   #创建5条线程\n",
    "        c = Consumer()\n",
    "        c.start()"
   ]
  },
  {
   "cell_type": "markdown",
   "metadata": {},
   "source": [
    "### ThreadLocal对象在线程中的使用"
   ]
  },
  {
   "cell_type": "markdown",
   "metadata": {},
   "source": [
    "使用ThreadLocal对象，多个线程的变量各用各的"
   ]
  },
  {
   "cell_type": "code",
   "execution_count": 8,
   "metadata": {},
   "outputs": [
    {
     "name": "stdout",
     "output_type": "stream",
     "text": [
      "Hello, dongGe (in Thread-A)\n",
      "Hello, 老王 (in Thread-B)\n",
      "------Task 3 -----\n",
      "------Task 2 -----\n",
      "------Task 1 -----\n",
      "------Task 3 -----\n"
     ]
    }
   ],
   "source": [
    "import threading\n",
    "\n",
    "# 创建全局ThreadLocal对象:\n",
    "local_school = threading.local()\n",
    "\n",
    "def process_student():\n",
    "    # 获取当前线程关联的student:\n",
    "    std = local_school.student\n",
    "    print('Hello, %s (in %s)' % (std, threading.current_thread().name))   #两条线程实际上打印了两个全局变量，各打印各的\n",
    "\n",
    "def process_thread(name):\n",
    "    # 绑定ThreadLocal的student:\n",
    "    local_school.student = name\n",
    "    process_student()\n",
    "\n",
    "t1 = threading.Thread(target= process_thread, args=('dongGe',), name='Thread-A')\n",
    "t2 = threading.Thread(target= process_thread, args=('老王',), name='Thread-B')\n",
    "t1.start()\n",
    "t2.start()"
   ]
  },
  {
   "cell_type": "markdown",
   "metadata": {},
   "source": [
    "### 异步的实现"
   ]
  },
  {
   "cell_type": "code",
   "execution_count": null,
   "metadata": {
    "scrolled": true
   },
   "outputs": [],
   "source": [
    "from multiprocessing import Pool\n",
    "import time\n",
    "import os\n",
    "\n",
    "def test():\n",
    "    print(\"---进程池中的进程---pid=%d,ppid=%d--\"%(os.getpid(),os.getppid()))  #打印当前进程id和ppid\n",
    "    for i in range(3):\n",
    "        print(\"----%d---\"%i)\n",
    "        time.sleep(1)\n",
    "    return \"hahah\"\n",
    "\n",
    "def test2(args):  #args的值为test的return值\n",
    "    print(\"---callback func--pid=%d\"%os.getpid())\n",
    "    print(\"---callback func--args=%s\"%args)\n",
    "\n",
    "pool = Pool(3)  #创建一个进程池，最多可以执行3个进程\n",
    "pool.apply_async(func=test,callback=test2)#添加了test任务去执行，callback回调\n",
    "\n",
    "#异步的理解：主进程正在做某件事情，突然　来了一件更需要立刻去做的事情，\n",
    "#那么这种，在父进程去做某件事情的时候　并不知道是什么时候去做，的模式　就称为异步\n",
    "\n",
    "#此为主进程\n",
    "while True:\n",
    "    time.sleep(1)\n",
    "    print(\"----主进程-pid=%d----\"%os.getpid())"
   ]
  },
  {
   "cell_type": "markdown",
   "metadata": {},
   "source": [
    "### Gil的问题（全局解释器锁）"
   ]
  },
  {
   "cell_type": "markdown",
   "metadata": {},
   "source": [
    "#### 单线程死循环"
   ]
  },
  {
   "cell_type": "code",
   "execution_count": null,
   "metadata": {},
   "outputs": [],
   "source": [
    "#主线程死循环，占满cpu\n",
    "while True:\n",
    "    pass"
   ]
  },
  {
   "cell_type": "markdown",
   "metadata": {},
   "source": [
    "#### 两个线程死循环"
   ]
  },
  {
   "cell_type": "code",
   "execution_count": null,
   "metadata": {},
   "outputs": [],
   "source": [
    "#-*- coding:utf-8 -*-\n",
    "import threading\n",
    "\n",
    "#子线程死循环\n",
    "def test():\n",
    "    while True:\n",
    "        pass\n",
    "\n",
    "\n",
    "t1 = threading.Thread(target=test)\n",
    "t1.start()\n",
    "\n",
    "#主线程死循环\n",
    "while True:\n",
    "    pass"
   ]
  },
  {
   "cell_type": "markdown",
   "metadata": {},
   "source": [
    "#### 两个进程死循环"
   ]
  },
  {
   "cell_type": "code",
   "execution_count": null,
   "metadata": {},
   "outputs": [],
   "source": [
    "import multiprocessing\n",
    "\n",
    "def deadLoop():\n",
    "    while True:\n",
    "        pass\n",
    "\n",
    "#子进程死循环\n",
    "p1 = multiprocessing.Process(target=deadLoop)\n",
    "p1.start()\n",
    "\n",
    "#主进程死循环\n",
    "deadLoop()"
   ]
  },
  {
   "cell_type": "markdown",
   "metadata": {},
   "source": [
    "#### 04-使用c语言来解决GIL问题"
   ]
  },
  {
   "cell_type": "code",
   "execution_count": null,
   "metadata": {},
   "outputs": [],
   "source": [
    "#main.py\n",
    "from ctypes import *\n",
    "from threading import Thread\n",
    "\n",
    "#加载动态库\n",
    "lib = cdll.LoadLibrary(\"./libdeadloop.so\")\n",
    "\n",
    "#创建一个子线程，让其执行ｃ语言编写的函数，此函数是一个死循环\n",
    "t = Thread(target=lib.DeadLoop)\n",
    "t.start()\n",
    "\n",
    "#主线程，也调用ｃ语言编写的那个死循环函数\n",
    "#lib.DeadLoop()\n",
    "\n",
    "while True:\n",
    "    pass"
   ]
  }
 ],
 "metadata": {
  "kernelspec": {
   "display_name": "Python 3",
   "language": "python",
   "name": "python3"
  },
  "language_info": {
   "codemirror_mode": {
    "name": "ipython",
    "version": 3
   },
   "file_extension": ".py",
   "mimetype": "text/x-python",
   "name": "python",
   "nbconvert_exporter": "python",
   "pygments_lexer": "ipython3",
   "version": "3.6.0"
  },
  "toc": {
   "nav_menu": {},
   "number_sections": true,
   "sideBar": true,
   "skip_h1_title": false,
   "title_cell": "Table of Contents",
   "title_sidebar": "Contents",
   "toc_cell": false,
   "toc_position": {
    "height": "880px",
    "left": "33px",
    "right": "1708px",
    "top": "111px",
    "width": "212px"
   },
   "toc_section_display": true,
   "toc_window_display": true
  }
 },
 "nbformat": 4,
 "nbformat_minor": 2
}
