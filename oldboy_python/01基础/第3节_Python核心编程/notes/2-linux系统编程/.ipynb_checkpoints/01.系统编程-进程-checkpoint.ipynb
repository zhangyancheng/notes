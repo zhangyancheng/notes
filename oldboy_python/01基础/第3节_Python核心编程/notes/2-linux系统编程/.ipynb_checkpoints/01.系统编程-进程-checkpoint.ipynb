{
 "cells": [
  {
   "cell_type": "markdown",
   "metadata": {},
   "source": [
    "### pdb"
   ]
  },
  {
   "cell_type": "markdown",
   "metadata": {},
   "source": [
    "pdb是基本命令行的调试工具，非常类似gnu的gdb（调试c/c++）"
   ]
  },
  {
   "cell_type": "code",
   "execution_count": null,
   "metadata": {},
   "outputs": [],
   "source": [
    "python3 -m pdb test1.py   #调试程序，手动控制\n",
    "l---->list 显示当前的代码\n",
    "n---->next 向下执行一行代码\n",
    "c---->continue 继续执行代码\n",
    "b---->break 添加断点   #b 7第七行打断点，打断点作用直接在某一行停止运行进行手动运行调试\n",
    "clear -->删除断点\n",
    "p---->print 打印一个变量的值  #p a 打印a的值\n",
    "s---->step 进入到一个函数\n",
    "a---->args 打印所有的形参数据\n",
    "q---->quit退出调试\n",
    "r---->return 快速执行到函数的最后一行"
   ]
  },
  {
   "cell_type": "code",
   "execution_count": null,
   "metadata": {},
   "outputs": [],
   "source": [
    "import pdb\n",
    "\n",
    "def getAverage(a, b):\n",
    "\tresult = a+b\n",
    "\tprint(\"result=%d\"%result)\n",
    "\treturn result\n",
    "\n",
    "a = 100\n",
    "b = 200\n",
    "c = a+b\n",
    "pdb.set_trace()    #当执行到这句话时，进入pdb调试模式\n",
    "ret = getAverage(a, b)\n",
    "print(ret)"
   ]
  },
  {
   "cell_type": "markdown",
   "metadata": {},
   "source": [
    "### pep8编码规则"
   ]
  },
  {
   "cell_type": "markdown",
   "metadata": {},
   "source": [
    "规范的编码风格，看官网"
   ]
  },
  {
   "cell_type": "markdown",
   "metadata": {},
   "source": [
    "### 多任务概念"
   ]
  },
  {
   "cell_type": "markdown",
   "metadata": {},
   "source": [
    "### 多任务理解"
   ]
  },
  {
   "cell_type": "markdown",
   "metadata": {},
   "source": [
    "### fork创建子进程"
   ]
  },
  {
   "cell_type": "markdown",
   "metadata": {},
   "source": [
    "编写完整的代码，在没有运行之前，称之为程序；正在运行着的代码，还有需要运行的环境就是进程。"
   ]
  },
  {
   "cell_type": "code",
   "execution_count": null,
   "metadata": {},
   "outputs": [],
   "source": [
    "import os\n",
    "import time\n",
    "\n",
    "ret = os.fork()   #当运行到这时会创建一个新的进程\n",
    "if ret==0:\n",
    "    while True:\n",
    "        print(\"----1---\")\n",
    "        time.sleep(1)\n",
    "else:\n",
    "    \n",
    "    while True:\n",
    "        print(\"----2---\")\n",
    "        time.sleep(1)\n",
    "\n",
    "#while同时执行1和2会同时打印，并一直运行（1 2，1 2,1 2......）"
   ]
  },
  {
   "cell_type": "code",
   "execution_count": null,
   "metadata": {},
   "outputs": [],
   "source": []
  }
 ],
 "metadata": {
  "kernelspec": {
   "display_name": "Python 3",
   "language": "python",
   "name": "python3"
  },
  "language_info": {
   "codemirror_mode": {
    "name": "ipython",
    "version": 3
   },
   "file_extension": ".py",
   "mimetype": "text/x-python",
   "name": "python",
   "nbconvert_exporter": "python",
   "pygments_lexer": "ipython3",
   "version": "3.6.0"
  },
  "toc": {
   "nav_menu": {},
   "number_sections": true,
   "sideBar": true,
   "skip_h1_title": false,
   "title_cell": "Table of Contents",
   "title_sidebar": "Contents",
   "toc_cell": false,
   "toc_position": {
    "height": "882px",
    "left": "0px",
    "right": "1708px",
    "top": "67px",
    "width": "212px"
   },
   "toc_section_display": "block",
   "toc_window_display": true
  }
 },
 "nbformat": 4,
 "nbformat_minor": 2
}
