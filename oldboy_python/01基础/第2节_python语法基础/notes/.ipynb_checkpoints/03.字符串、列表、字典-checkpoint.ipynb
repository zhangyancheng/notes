{
 "cells": [
  {
   "cell_type": "markdown",
   "metadata": {},
   "source": [
    "### for循环中的else"
   ]
  },
  {
   "cell_type": "code",
   "execution_count": null,
   "metadata": {},
   "outputs": [],
   "source": [
    "#for循环结束后运行else里的\n",
    "nums = [1,2,3,4]\n",
    "for num in nums:\n",
    "    print(num)\n",
    "else:\n",
    "    print(\"-----\")"
   ]
  },
  {
   "cell_type": "markdown",
   "metadata": {},
   "source": [
    "### 字典的操作和遍历"
   ]
  },
  {
   "cell_type": "code",
   "execution_count": null,
   "metadata": {},
   "outputs": [],
   "source": [
    "#获得键\n",
    "infor = {\"name\":\"laowang\",\"age\":18}\n",
    "for num in infor.keys():\n",
    "    print(num)"
   ]
  },
  {
   "cell_type": "code",
   "execution_count": null,
   "metadata": {},
   "outputs": [],
   "source": [
    "#获得值\n",
    "infor = {\"name\":\"laowang\",\"age\":18}\n",
    "for num in infor.values():\n",
    "    print(num)"
   ]
  },
  {
   "cell_type": "code",
   "execution_count": null,
   "metadata": {},
   "outputs": [],
   "source": [
    "#获得元组\n",
    "infor = {\"name\":\"laowang\",\"age\":18}\n",
    "for num in infor.items():\n",
    "    print(num)"
   ]
  },
  {
   "cell_type": "code",
   "execution_count": 5,
   "metadata": {},
   "outputs": [
    {
     "name": "stdout",
     "output_type": "stream",
     "text": [
      "key=name,value=laowang\n",
      "key=age,value=18\n"
     ]
    }
   ],
   "source": [
    "infor = {\"name\":\"laowang\",\"age\":18}\n",
    "for temp in infor.items():\n",
    "    print(\"key=%s,value=%s\"%(temp[0],temp[1]))\n"
   ]
  },
  {
   "cell_type": "code",
   "execution_count": 7,
   "metadata": {},
   "outputs": [
    {
     "name": "stdout",
     "output_type": "stream",
     "text": [
      "key=name,value=laowang\n",
      "key=age,value=18\n"
     ]
    }
   ],
   "source": [
    "infor = {\"name\":\"laowang\",\"age\":18}\n",
    "for A,B in infor.items():\n",
    "    print(\"key=%s,value=%s\"%(A,B))"
   ]
  },
  {
   "cell_type": "code",
   "execution_count": null,
   "metadata": {},
   "outputs": [],
   "source": []
  }
 ],
 "metadata": {
  "kernelspec": {
   "display_name": "Python 3",
   "language": "python",
   "name": "python3"
  },
  "language_info": {
   "codemirror_mode": {
    "name": "ipython",
    "version": 3
   },
   "file_extension": ".py",
   "mimetype": "text/x-python",
   "name": "python",
   "nbconvert_exporter": "python",
   "pygments_lexer": "ipython3",
   "version": "3.6.0"
  },
  "toc": {
   "nav_menu": {},
   "number_sections": true,
   "sideBar": true,
   "skip_h1_title": false,
   "title_cell": "Table of Contents",
   "title_sidebar": "Contents",
   "toc_cell": false,
   "toc_position": {},
   "toc_section_display": true,
   "toc_window_display": true
  }
 },
 "nbformat": 4,
 "nbformat_minor": 2
}
