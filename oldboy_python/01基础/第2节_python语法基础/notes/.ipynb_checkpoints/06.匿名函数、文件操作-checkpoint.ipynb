{
 "cells": [
  {
   "cell_type": "markdown",
   "metadata": {},
   "source": [
    "### 匿名函数"
   ]
  },
  {
   "cell_type": "code",
   "execution_count": null,
   "metadata": {},
   "outputs": [],
   "source": [
    ".sort()：从小到大排序\n",
    ".sort(reverse=True):从大到小排序\n",
    ".reverse()：倒叙排序"
   ]
  },
  {
   "cell_type": "code",
   "execution_count": 1,
   "metadata": {},
   "outputs": [
    {
     "name": "stdout",
     "output_type": "stream",
     "text": [
      "[{'name': 'banzhang', 'age': 18}, {'name': 'laowang', 'age': 10}, {'name': 'xiaoming', 'age': 20}]\n"
     ]
    }
   ],
   "source": [
    "#lambda匿名函数\n",
    "infors = [{\"name\":\"laowang\",\"age\":10},{\"name\":\"xiaoming\",\"age\":20},{\"name\":\"banzhang\",\"age\":18}]\n",
    "infors.sort(key=lambda x:x['name'])  #使用匿名函数按照name的value值排序\n",
    "print(infors)"
   ]
  },
  {
   "cell_type": "markdown",
   "metadata": {},
   "source": [
    "### 匿名函数当做实参"
   ]
  },
  {
   "cell_type": "code",
   "execution_count": 4,
   "metadata": {},
   "outputs": [
    {
     "name": "stdout",
     "output_type": "stream",
     "text": [
      "33\n"
     ]
    }
   ],
   "source": [
    "def test(a,b,func):\n",
    "    result = func(a,b)\n",
    "    return result\n",
    "num = test(11,22,lambda x,y:x+y)\n",
    "print(num)"
   ]
  },
  {
   "cell_type": "markdown",
   "metadata": {},
   "source": [
    "### 匿名函数的应用"
   ]
  },
  {
   "cell_type": "code",
   "execution_count": 6,
   "metadata": {},
   "outputs": [
    {
     "name": "stdout",
     "output_type": "stream",
     "text": [
      "请输入一个匿名函数：lambda x,y:x+y\n",
      "33\n"
     ]
    }
   ],
   "source": [
    "#eval转换input输入的lambda x,y；x+y字符串为表达式\n",
    "def test(a,b,func):\n",
    "    result = func(a,b)\n",
    "    return result\n",
    "func_new = input(\"请输入一个匿名函数：\")\n",
    "func_new = eval(func_new)  #input输入为字符串，eval转换为lambda表达式\n",
    "num = test(11,22,func_new)\n",
    "print(num)"
   ]
  },
  {
   "cell_type": "markdown",
   "metadata": {},
   "source": [
    "### 交换两个变量"
   ]
  },
  {
   "cell_type": "code",
   "execution_count": 10,
   "metadata": {},
   "outputs": [
    {
     "name": "stdout",
     "output_type": "stream",
     "text": [
      "a=5,b=4\n"
     ]
    }
   ],
   "source": [
    "#第一种\n",
    "a = 4\n",
    "b = 5\n",
    "\n",
    "c = 0\n",
    "c = a\n",
    "a = b \n",
    "b = c\n",
    "print(\"a=%d,b=%d\"%(a,b))"
   ]
  },
  {
   "cell_type": "code",
   "execution_count": 11,
   "metadata": {},
   "outputs": [
    {
     "name": "stdout",
     "output_type": "stream",
     "text": [
      "a=5,b=4\n"
     ]
    }
   ],
   "source": [
    "#第二种\n",
    "a = 4\n",
    "b = 5\n",
    "\n",
    "a = a+b\n",
    "b = a-b\n",
    "a = a-b\n",
    "print(\"a=%d,b=%d\"%(a,b))"
   ]
  },
  {
   "cell_type": "code",
   "execution_count": 12,
   "metadata": {},
   "outputs": [
    {
     "name": "stdout",
     "output_type": "stream",
     "text": [
      "a=5,b=4\n"
     ]
    }
   ],
   "source": [
    "#第三种\n",
    "a = 4\n",
    "b = 5\n",
    "\n",
    "a,b = b,a\n",
    "print(\"a=%d,b=%d\"%(a,b))"
   ]
  },
  {
   "cell_type": "markdown",
   "metadata": {},
   "source": [
    "### 可变类型的全局变量可修改"
   ]
  },
  {
   "cell_type": "markdown",
   "metadata": {},
   "source": [
    "#### 1.可变类型列表、字典全局变量可更改原来的，不可变类型数字、字符串、元组全局变量不可更改将会形成新的"
   ]
  },
  {
   "cell_type": "code",
   "execution_count": 15,
   "metadata": {},
   "outputs": [
    {
     "name": "stdout",
     "output_type": "stream",
     "text": [
      "200\n",
      "100\n"
     ]
    }
   ],
   "source": [
    "#此时a为不可变类型，所有全局变量a未更改，最后print输出还是100\n",
    "a = 100\n",
    "def test(num):\n",
    "    num+=num\n",
    "    print(num)\n",
    "test(a)\n",
    "print(a)"
   ]
  },
  {
   "cell_type": "code",
   "execution_count": 14,
   "metadata": {
    "scrolled": true
   },
   "outputs": [
    {
     "name": "stdout",
     "output_type": "stream",
     "text": [
      "[100, 100]\n",
      "[100, 100]\n"
     ]
    }
   ],
   "source": [
    "#此时a为可变类型，所有全局变量a更改为[100,100]，最后print输出为[100,100]\n",
    "a = [100]\n",
    "def test(num):\n",
    "    num+=num\n",
    "    print(num)\n",
    "test(a)\n",
    "print(a)"
   ]
  },
  {
   "cell_type": "markdown",
   "metadata": {},
   "source": [
    "#### 2.num+=num和num=num+num的区别"
   ]
  },
  {
   "cell_type": "code",
   "execution_count": 17,
   "metadata": {},
   "outputs": [
    {
     "name": "stdout",
     "output_type": "stream",
     "text": [
      "[100, 100]\n",
      "[100, 100]\n"
     ]
    }
   ],
   "source": [
    "a = [100]\n",
    "def test(num):\n",
    "    num+=num         #修改原始全局变量列表\n",
    "    print(num)\n",
    "    \n",
    "    \n",
    "test(a)\n",
    "print(a)"
   ]
  },
  {
   "cell_type": "code",
   "execution_count": 18,
   "metadata": {},
   "outputs": [
    {
     "name": "stdout",
     "output_type": "stream",
     "text": [
      "[100, 100]\n",
      "[100]\n"
     ]
    }
   ],
   "source": [
    "a = [100]\n",
    "def test(num):\n",
    "    num = num + num  #新增了一个新的列表\n",
    "    print(num)\n",
    "test(a)\n",
    "print(a)"
   ]
  },
  {
   "cell_type": "markdown",
   "metadata": {},
   "source": [
    "### 文件的打开和关闭"
   ]
  },
  {
   "cell_type": "code",
   "execution_count": null,
   "metadata": {},
   "outputs": [],
   "source": [
    "f = open(\"test.py\",\"w\")  打开文件\n",
    "f.close()                关闭文件"
   ]
  },
  {
   "cell_type": "code",
   "execution_count": null,
   "metadata": {},
   "outputs": [],
   "source": [
    "r:打开文件只能读文件，文件指针放在文件的开头\n",
    "w:打开一个文件只用于写入，如果文件存在则将其覆盖，如果文件不存在则新建\n",
    "a：打开一个文件只用于追加，如果文件存在，文件指针放在文件的结尾，如果文件不存在则新建\n",
    "rb:以二进制格式打开文件，只能读文件，文件指针放在文件的开头\n",
    "wb:以二进制格式打开一个文件只用于写入，如果文件存在则将其覆盖，如果文件不存在则新建\n",
    "ab:以二进制格式打开一个文件只用于写入，如果文件存在则将其覆盖，如果文件不存在则新建\n",
    "r:打开一个文件用于读写，文件指针放在文件的开头\n",
    "w:打开一个文件用于读写入，如果文件存在则将其覆盖，如果文件不存在则新建\n",
    "a：打开一个文件用于读写，如果文件存在，文件指针放在文件的结尾，如果文件不存在则新建\n",
    "rb+::以二进制格式打开一个文件用于读写，文件指针放在文件的开头\n",
    "wb+::以二进制格式打开一个文件用于读写入，如果文件存在则将其覆盖，如果文件不存在则新建\n",
    "ab+：:以二进制格式打开一个文件用于读写，如果文件存在，文件指针放在文件的结尾，如果文件不存在则新建"
   ]
  },
  {
   "cell_type": "markdown",
   "metadata": {},
   "source": [
    "### 文件的读写"
   ]
  },
  {
   "cell_type": "code",
   "execution_count": null,
   "metadata": {},
   "outputs": [],
   "source": [
    "f.read()  #读写文件内容，读完后不再读已读过的\n",
    "f.write(\"hhhh\")  #写入hhhh"
   ]
  },
  {
   "cell_type": "markdown",
   "metadata": {},
   "source": [
    "### 复制文件流程"
   ]
  },
  {
   "cell_type": "code",
   "execution_count": null,
   "metadata": {},
   "outputs": [],
   "source": [
    "#1.获取用户要复制的文件名\n",
    "old_file_name = input(\"请输入你要复制的文件名：\")\n",
    "#2.打开要复制的文件\n",
    "old_file = open(old_file_nam,\"r\")\n",
    "#test.py------>test[复件].py\n",
    "position = old_file_name.rfind(\".\")    #从右开始查找.的位置\n",
    "new_file_name = old_file_name[0:position] + \"[复件]\" + old_file_name[position:]\n",
    "#3.新建一个文件\n",
    "new_file = open(new_file_name,\"w\")\n",
    "#4.从旧文件中读取数据，写入新文件\n",
    "content = old_file.read()\n",
    "new_file.write(content)\n",
    "#5.关闭文件\n",
    "old_file.close()\n",
    "new_file.close()"
   ]
  },
  {
   "cell_type": "markdown",
   "metadata": {},
   "source": [
    "### 大文件的处理方式"
   ]
  },
  {
   "cell_type": "markdown",
   "metadata": {},
   "source": [
    "当文件太大时，用循环一点点读取"
   ]
  },
  {
   "cell_type": "code",
   "execution_count": null,
   "metadata": {},
   "outputs": [],
   "source": [
    "f.readline():以每行的格式读取\n",
    "f.readlines()：读取每一行以列表输出，[\"第一行\",\"第二行\",\"第三行\"]"
   ]
  },
  {
   "cell_type": "code",
   "execution_count": null,
   "metadata": {},
   "outputs": [],
   "source": [
    "#1.获取用户要复制的文件名\n",
    "old_file_name = input(\"请输入你要复制的文件名：\")\n",
    "#2.打开要复制的文件\n",
    "old_file = open(old_file_nam,\"r\")\n",
    "#test.py------>test[复件].py\n",
    "position = old_file_name.rfind(\".\")    #从右开始查找.的位置\n",
    "new_file_name = old_file_name[0:position] + \"[复件]\" + old_file_name[position:]\n",
    "#3.新建一个文件\n",
    "new_file = open(new_file_name,\"w\")\n",
    "#4.从旧文件中读取数据，写入新文件\n",
    "#循环一点点读取内容，以免数据过多\n",
    "while True:\n",
    "    content = old_file.read(1024)\n",
    "    if len(content)==0:\n",
    "        break\n",
    "    new_file.write(content)\n",
    "#5.关闭文件\n",
    "old_file.close()\n",
    "new_file.close()"
   ]
  },
  {
   "cell_type": "markdown",
   "metadata": {},
   "source": [
    "### 定位读写"
   ]
  },
  {
   "cell_type": "code",
   "execution_count": null,
   "metadata": {},
   "outputs": [],
   "source": [
    "f.seek(2,0)  #文件读取指针从开头往后移动2个字节，f.seek(字节,开头0结尾2)\n",
    "f.tell()     #获取当前读取位置"
   ]
  },
  {
   "cell_type": "code",
   "execution_count": null,
   "metadata": {},
   "outputs": [],
   "source": [
    "f = open(\"test.py\")\n",
    "f.seek(2,0)\n",
    "f.read() #跳过前两个字节开始读\n",
    "f.read() #前面已读完，读出为空\n",
    "f.seek(0,0) #回到开头重新开始读"
   ]
  },
  {
   "cell_type": "markdown",
   "metadata": {},
   "source": [
    "### 文件、文件夹的常见操作"
   ]
  },
  {
   "cell_type": "code",
   "execution_count": null,
   "metadata": {},
   "outputs": [],
   "source": [
    "import os\n",
    "os.rename(\"xxx.txt\",\"yy.txt\")   #重命名文件\n",
    "os.remove(\"yyy.txt\")            #删除文件\n",
    "os.mkdir(\"test\")                #新建文件夹\n",
    "os.rmdir(\"test\")                #删除文件夹\n",
    "os.getcwd()                     #获取当前操作路径\n",
    "os.chadir(../)                  #改变当前操作默认路径为上一层\n",
    "f = open(\"../test.txt\",\"w\")     #在上层目录新建一个文件\n",
    "os.listdir(\"./\")                #获取当前路径文件，以列表输出"
   ]
  },
  {
   "cell_type": "markdown",
   "metadata": {},
   "source": [
    "### 批量重命名"
   ]
  },
  {
   "cell_type": "code",
   "execution_count": null,
   "metadata": {},
   "outputs": [],
   "source": [
    "import os\n",
    "#1.获取要重命名的文件夹名字\n",
    "folder_name = input(\"请输入要重命名的文件夹：\")\n",
    "#2.获取指定的文件夹的所有文件名字\n",
    "file_name = os.listdir(folder_name)\n",
    "#os.chdir(folder_name)\n",
    "#3.重命名\n",
    "for name in file_name:\n",
    "    old_file_name = folder_name + \"/\" + name\n",
    "    new_file_name = folder_name + \"/\" +\"京东出品\" +name\n",
    "    os.rename(old_file_name,new_file_nam)"
   ]
  }
 ],
 "metadata": {
  "kernelspec": {
   "display_name": "Python 3",
   "language": "python",
   "name": "python3"
  },
  "language_info": {
   "codemirror_mode": {
    "name": "ipython",
    "version": 3
   },
   "file_extension": ".py",
   "mimetype": "text/x-python",
   "name": "python",
   "nbconvert_exporter": "python",
   "pygments_lexer": "ipython3",
   "version": "3.6.0"
  },
  "toc": {
   "nav_menu": {},
   "number_sections": true,
   "sideBar": true,
   "skip_h1_title": false,
   "title_cell": "Table of Contents",
   "title_sidebar": "Contents",
   "toc_cell": false,
   "toc_position": {
    "height": "calc(100% - 180px)",
    "left": "10px",
    "top": "150px",
    "width": "384px"
   },
   "toc_section_display": "block",
   "toc_window_display": true
  }
 },
 "nbformat": 4,
 "nbformat_minor": 2
}
