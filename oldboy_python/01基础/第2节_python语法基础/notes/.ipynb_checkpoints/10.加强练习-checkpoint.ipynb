{
 "cells": [
  {
   "cell_type": "markdown",
   "metadata": {},
   "source": [
    "### 模块中_ _all_ _的作用"
   ]
  },
  {
   "cell_type": "markdown",
   "metadata": {},
   "source": [
    "在最前面加上_ _all_ _ = [\"test1\"]，表示当其他模块调用此模块，只能调用模块里的test1函数，其他函数都调用不了"
   ]
  },
  {
   "cell_type": "code",
   "execution_count": null,
   "metadata": {},
   "outputs": [],
   "source": [
    "__all__ = [\"test1\"]\n",
    "def test1():\n",
    "    print(\"----test1----\")\n",
    "def test2():\n",
    "    print(\"----test2----\")"
   ]
  },
  {
   "cell_type": "markdown",
   "metadata": {},
   "source": [
    "### 包、_ _init_ _.py的作用"
   ]
  },
  {
   "cell_type": "markdown",
   "metadata": {},
   "source": [
    "当调用其他文件夹时，在文件夹加上_ _init_ _.py包，建了之后整个文件夹为一个包"
   ]
  },
  {
   "cell_type": "code",
   "execution_count": null,
   "metadata": {},
   "outputs": [],
   "source": [
    "#__init__.py文件里面写上__all__ = [\"sendmsg\"]参数，只能调用该文件夹下的sendmsg.py包，其他包不能被调用\n",
    "__all__ = [\"sendmsg\"]\n",
    "\n",
    "#到一个包调用其他包，就会运行__init__.py包里的东西"
   ]
  },
  {
   "cell_type": "markdown",
   "metadata": {},
   "source": [
    "### 模块的发布、安装"
   ]
  },
  {
   "cell_type": "markdown",
   "metadata": {},
   "source": [
    "把包放到系统里"
   ]
  },
  {
   "cell_type": "code",
   "execution_count": null,
   "metadata": {},
   "outputs": [],
   "source": [
    "1.在包的当前路径新建setup.py\n",
    "2.打开输入\n",
    "from distutils.core import setup\n",
    "setup(name=\"dongge\",version=\"1.0\",description=\"dongge's module\",author=\"dongge\",py_module=[\"Test.sendmsg\",\"Test.recvmsg\"])  \n",
    "#py_module为路径.包名\n",
    "3.构建模块\n",
    "命令行输入\n",
    "Python3 setup.py build  #python3\n",
    "Python setup.py build  #python2\n",
    "执行完多了个bulid文件夹\n",
    "4.生成发布压缩包\n",
    "命令行输入\n",
    "python3 setup.py sdist\n",
    "执行完多了个dist文件夹和MANIFEST\n",
    "5.把dist文件下的压缩包可以发布到Git上\n",
    "6.解压包会有一个PKG.INFO里面有一些之前填的作者信息\n",
    "7.Python3 setup.py install 安装到系统里面"
   ]
  },
  {
   "cell_type": "markdown",
   "metadata": {},
   "source": [
    "### 给程序传参数"
   ]
  },
  {
   "cell_type": "markdown",
   "metadata": {},
   "source": [
    "当运行一个程序，可以直接传参使其打印出来"
   ]
  },
  {
   "cell_type": "code",
   "execution_count": null,
   "metadata": {},
   "outputs": [],
   "source": [
    "# 使用Python 程序.py laowang\n",
    "#会打印“热烈欢迎laowang的到来”\n",
    "\n",
    "import sys\n",
    "print(sys.argv)\n",
    "name = sys.argv[1]\n",
    "print(\"热烈欢迎%s的到来\"%name)"
   ]
  },
  {
   "cell_type": "markdown",
   "metadata": {},
   "source": [
    "### 列表生成式"
   ]
  },
  {
   "cell_type": "code",
   "execution_count": null,
   "metadata": {},
   "outputs": [],
   "source": [
    "range(10,18),range就是用来生成列表的\n",
    "使用range的风险：Python2内存不足会报错，Python3不会"
   ]
  },
  {
   "cell_type": "code",
   "execution_count": 4,
   "metadata": {},
   "outputs": [
    {
     "name": "stdout",
     "output_type": "stream",
     "text": [
      "[10, 11, 12, 13, 14, 15, 16, 17]\n",
      "[11, 11, 11, 11, 11, 11, 11, 11]\n"
     ]
    }
   ],
   "source": [
    "a = [i for i in range(10,18)]  \n",
    "print(a)\n",
    "\n",
    "b = [11 for i in range(10,18)]  #for循环只负责循环次数，值由for前面值决定\n",
    "print(b)"
   ]
  },
  {
   "cell_type": "code",
   "execution_count": 7,
   "metadata": {},
   "outputs": [
    {
     "name": "stdout",
     "output_type": "stream",
     "text": [
      "[0, 2, 4, 6, 8]\n",
      "[[0, 0], [0, 1], [1, 0], [1, 1], [2, 0], [2, 1]]\n"
     ]
    }
   ],
   "source": [
    "c = [i for i in range(10) if i%2==0]\n",
    "print(c)\n",
    "\n",
    "d = [[i,j] for i in range(3) for j in range(2)]\n",
    "print(d)"
   ]
  },
  {
   "cell_type": "markdown",
   "metadata": {},
   "source": [
    "### 去重(集合、元组、列表)"
   ]
  },
  {
   "cell_type": "markdown",
   "metadata": {},
   "source": [
    "集合没有相同的值也可以增删改查操作，用花括号表示，字典也是用花括号"
   ]
  },
  {
   "cell_type": "code",
   "execution_count": 10,
   "metadata": {},
   "outputs": [
    {
     "name": "stdout",
     "output_type": "stream",
     "text": [
      "[11, 22, 33]\n"
     ]
    }
   ],
   "source": [
    "#例子1:去重\n",
    "a = [11,22,33,11,22,33]\n",
    "b = []\n",
    "for i in a:\n",
    "    if i not in b:\n",
    "        b.append(i)\n",
    "print(b)"
   ]
  },
  {
   "cell_type": "code",
   "execution_count": 8,
   "metadata": {},
   "outputs": [
    {
     "name": "stdout",
     "output_type": "stream",
     "text": [
      "{33, 11, 22}\n",
      "[33, 11, 22]\n"
     ]
    }
   ],
   "source": [
    "#例子2:去重\n",
    "a = [11,22,33,11,22,33]\n",
    "f = set(a)\n",
    "print(f)\n",
    "b = list(f)\n",
    "print(b)\n"
   ]
  },
  {
   "cell_type": "code",
   "execution_count": null,
   "metadata": {},
   "outputs": [],
   "source": []
  }
 ],
 "metadata": {
  "kernelspec": {
   "display_name": "Python 3",
   "language": "python",
   "name": "python3"
  },
  "language_info": {
   "codemirror_mode": {
    "name": "ipython",
    "version": 3
   },
   "file_extension": ".py",
   "mimetype": "text/x-python",
   "name": "python",
   "nbconvert_exporter": "python",
   "pygments_lexer": "ipython3",
   "version": "3.6.0"
  },
  "toc": {
   "nav_menu": {},
   "number_sections": true,
   "sideBar": true,
   "skip_h1_title": false,
   "title_cell": "Table of Contents",
   "title_sidebar": "Contents",
   "toc_cell": false,
   "toc_position": {
    "height": "calc(100% - 180px)",
    "left": "10px",
    "top": "150px",
    "width": "384px"
   },
   "toc_section_display": true,
   "toc_window_display": true
  }
 },
 "nbformat": 4,
 "nbformat_minor": 2
}
