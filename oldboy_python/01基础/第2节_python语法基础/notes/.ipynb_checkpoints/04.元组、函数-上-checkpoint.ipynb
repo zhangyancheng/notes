{
 "cells": [
  {
   "cell_type": "markdown",
   "metadata": {},
   "source": [
    "### return的作用"
   ]
  },
  {
   "cell_type": "code",
   "execution_count": null,
   "metadata": {},
   "outputs": [],
   "source": [
    "def get_wendu():\n",
    "    wendu = 22\n",
    "    print(\"当前的室温是：%d\"%wendu)\n",
    "    return wendu   #返回温度的值\n",
    "def get_wendu_huashi(wendu):\n",
    "    wendu = wendu + 3\n",
    "    print(\"当前的华氏温度是：%d\"%wendu)\n",
    "\n",
    "result = get_wendu()\n",
    "get_wendu_huashi(result)"
   ]
  },
  {
   "cell_type": "markdown",
   "metadata": {},
   "source": [
    "### 函数中的多个return"
   ]
  },
  {
   "cell_type": "markdown",
   "metadata": {},
   "source": [
    "当函数中有多个return，执行第一个return函数就执行结束"
   ]
  },
  {
   "cell_type": "code",
   "execution_count": null,
   "metadata": {},
   "outputs": [],
   "source": [
    "#第一种：封装一个列表返回\n",
    "def test():\n",
    "    a = 11\n",
    "    b = 22\n",
    "    c = 33\n",
    "    d = [a,b,c]  #以列表的方式返回多个值\n",
    "    return d \n",
    "num = test()\n",
    "print(num)"
   ]
  },
  {
   "cell_type": "code",
   "execution_count": null,
   "metadata": {},
   "outputs": [],
   "source": [
    "#第二种：直接返回列表\n",
    "def test():\n",
    "    a = 11\n",
    "    b = 22\n",
    "    c = 33\n",
    "    return [a,b,c]\n",
    "num = test()\n",
    "print(num)"
   ]
  },
  {
   "cell_type": "code",
   "execution_count": null,
   "metadata": {},
   "outputs": [],
   "source": [
    "#第一种：封装一个元组返回\n",
    "def test():\n",
    "    a = 11\n",
    "    b = 22\n",
    "    c = 33\n",
    "    d = (a,b,c)  #以元组的方式返回多个值\n",
    "    return d \n",
    "num = test()\n",
    "print(num)"
   ]
  },
  {
   "cell_type": "markdown",
   "metadata": {},
   "source": [
    "### 四种函数"
   ]
  },
  {
   "cell_type": "code",
   "execution_count": null,
   "metadata": {},
   "outputs": [],
   "source": [
    "无参数无返回值；无参数有返回值；有参数无返回值；有参数有返回值"
   ]
  },
  {
   "cell_type": "markdown",
   "metadata": {},
   "source": [
    "### 函数的嵌套调用"
   ]
  },
  {
   "cell_type": "code",
   "execution_count": null,
   "metadata": {},
   "outputs": [],
   "source": [
    "def sum_3_nums(a,b,c):\n",
    "    result = a + b + c\n",
    "    return result\n",
    "def average_3_nums(a1,b1,c1):\n",
    "    result = sum_3_nums(a1,b1,c1)\n",
    "    result = result/3\n",
    "    print(result)\n",
    "    \n",
    "num1 = int(input(\"第一个值为：\"))\n",
    "num2 = int(input(\"第二个值为：\"))\n",
    "num3 = int(input(\"第三个值为：\"))\n",
    "average_3_nums(num1,num2,num3)\n",
    "    "
   ]
  },
  {
   "cell_type": "markdown",
   "metadata": {},
   "source": [
    "### 函数返回多个值"
   ]
  },
  {
   "cell_type": "code",
   "execution_count": null,
   "metadata": {},
   "outputs": [],
   "source": [
    "def divid(a,b):\n",
    "    shang = a//b\n",
    "    yushu = a%b\n",
    "    return shang,yushu\n",
    "sh,yu = divid(5,2)\n",
    "print(sh)\n",
    "print(yu)"
   ]
  },
  {
   "cell_type": "code",
   "execution_count": null,
   "metadata": {},
   "outputs": [],
   "source": []
  }
 ],
 "metadata": {
  "kernelspec": {
   "display_name": "Python 3",
   "language": "python",
   "name": "python3"
  },
  "language_info": {
   "codemirror_mode": {
    "name": "ipython",
    "version": 3
   },
   "file_extension": ".py",
   "mimetype": "text/x-python",
   "name": "python",
   "nbconvert_exporter": "python",
   "pygments_lexer": "ipython3",
   "version": "3.6.0"
  },
  "toc": {
   "nav_menu": {},
   "number_sections": true,
   "sideBar": true,
   "skip_h1_title": false,
   "title_cell": "Table of Contents",
   "title_sidebar": "Contents",
   "toc_cell": false,
   "toc_position": {},
   "toc_section_display": true,
   "toc_window_display": true
  }
 },
 "nbformat": 4,
 "nbformat_minor": 2
}
