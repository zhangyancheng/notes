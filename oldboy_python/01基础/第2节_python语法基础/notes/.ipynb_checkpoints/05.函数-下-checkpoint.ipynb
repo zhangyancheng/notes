{
 "cells": [
  {
   "cell_type": "markdown",
   "metadata": {},
   "source": [
    "### 全局变量和局部变量的区别"
   ]
  },
  {
   "cell_type": "code",
   "execution_count": null,
   "metadata": {},
   "outputs": [],
   "source": [
    "wendu = 0  #定义一个全局变量\n",
    "def get_wendu():\n",
    "    #对全局变量进行修改\n",
    "    global wendu\n",
    "    wendu = 33\n",
    "def print_wendu():\n",
    "    print(\"当前温度%d\"%wendu)\n",
    "get_wendu()    \n",
    "print_wendu()"
   ]
  },
  {
   "cell_type": "markdown",
   "metadata": {},
   "source": [
    "### 全局变量定义的位置"
   ]
  },
  {
   "cell_type": "markdown",
   "metadata": {},
   "source": [
    "先写全局变量定义，在写函数定义，最后调用函数"
   ]
  },
  {
   "cell_type": "markdown",
   "metadata": {},
   "source": [
    "### 局部变量和全局变量名字相同"
   ]
  },
  {
   "cell_type": "markdown",
   "metadata": {},
   "source": [
    "当一个函数存在一个局部变量与外侧的全局变量名字相同，函数先调用局部变量"
   ]
  },
  {
   "cell_type": "markdown",
   "metadata": {},
   "source": [
    "### 全局变量命名"
   ]
  },
  {
   "cell_type": "markdown",
   "metadata": {},
   "source": [
    "全局变量命名建议g_a，加上g_代表global"
   ]
  },
  {
   "cell_type": "markdown",
   "metadata": {},
   "source": [
    "### 名片管理系统"
   ]
  },
  {
   "cell_type": "code",
   "execution_count": null,
   "metadata": {},
   "outputs": [],
   "source": [
    "#用来存储名片\n",
    "card_infors = []\n",
    "\n",
    "def print_menu():\n",
    "    \"\"\"完成打印功能菜单\"\"\"\n",
    "    print(\"=\"*50)\n",
    "    print(\"   名片管理系统 V0.01\")\n",
    "    print(\" 1. 添加一个新的名片\")\n",
    "    print(\" 2. 删除一个名片\")\n",
    "    print(\" 3. 修改一个名片\")\n",
    "    print(\" 4. 查询一个名片\")\n",
    "    print(\" 5. 显示所有的名片\")\n",
    "    print(\" 6. 退出系统\")\n",
    "    print(\"=\"*50)\n",
    "\n",
    "def add_new_card_infor():\n",
    "    \"\"\"完成添加一个新的名片\"\"\"\n",
    "    new_name = input(\"请输入新的名字:\")\n",
    "    new_qq = input(\"请输入新的QQ:\")\n",
    "    new_weixin = input(\"请输入新的微信:\")\n",
    "    new_addr = input(\"请输入新的住址:\")\n",
    "    #定义一个新的字典,用来存储一个新的名片\n",
    "    new_infor = {}\n",
    "    new_infor['name'] = new_name\n",
    "    new_infor['qq'] = new_qq\n",
    "    new_infor['weixin'] = new_weixin\n",
    "    new_infor['addr'] = new_addr\n",
    "    #将一个字典,添加到列表中\n",
    "    global card_infors\n",
    "    card_infors.append(new_infor)\n",
    "    #print(card_infors)# for test\n",
    "\n",
    "def find_card_infor():\n",
    "    \"\"\"用来查询一个名片\"\"\"\n",
    "    global card_infors\n",
    "    find_name = input(\"请输入要查找的姓名:\")\n",
    "    find_flag = 0#默认表示没有找到\n",
    "    for temp in card_infors:\n",
    "        if find_name == temp[\"name\"]:\n",
    "            print(\"%s\\t%s\\t%s\\t%s\"%(temp['name'], temp['qq'], temp['weixin'], temp['addr']))\n",
    "            find_flag=1#表示找到了\n",
    "            break  \n",
    "    #判断是否找到了\n",
    "    if find_flag == 0:\n",
    "        print(\"查无此人....\")\n",
    "\n",
    "def show_all_infor():\n",
    "    \"\"\"显示所有的名片信息\"\"\"\n",
    "    global card_infors\n",
    "    print(\"姓名\\tQQ\\t微信\\t住址\")\n",
    "    for temp in card_infors:\n",
    "        print(\"%s\\t%s\\t%s\\t%s\"%(temp['name'], temp['qq'], temp['weixin'], temp['addr']))\n",
    "\n",
    "def main():\n",
    "    \"\"\"完成对整个程序的控制\"\"\"\n",
    "    #1. 打印功能提示\n",
    "    print_menu()\n",
    "    while True:\n",
    "        #2. 获取用户的输入\n",
    "        num = int(input(\"请输入操作序号:\"))\n",
    "        #3. 根据用户的数据执行相应的功能\n",
    "        if num==1:\n",
    "            add_new_card_infor()\n",
    "        elif num==2:\n",
    "            pass\n",
    "        elif num==3:\n",
    "            pass\n",
    "        elif num==4:\n",
    "            find_card_infor()\n",
    "        elif num==5:\n",
    "            show_all_infor()\n",
    "        elif num==6:\n",
    "            break\n",
    "        else:\n",
    "            print(\"输入有误,请重新输入\")\n",
    "        print(\"\")\n",
    "\n",
    "#调用主函数\n",
    "main()\n"
   ]
  },
  {
   "cell_type": "markdown",
   "metadata": {},
   "source": [
    "### 列表、字典当做全局变量"
   ]
  },
  {
   "cell_type": "markdown",
   "metadata": {},
   "source": [
    "当列表、字典当做全局变量，函数里可以不写global"
   ]
  },
  {
   "cell_type": "markdown",
   "metadata": {},
   "source": [
    "### 缺省函数的介绍"
   ]
  },
  {
   "cell_type": "markdown",
   "metadata": {},
   "source": [
    "当有传参的时候用这个值，当没参数用默认值，默认值叫缺省参数"
   ]
  },
  {
   "cell_type": "code",
   "execution_count": null,
   "metadata": {},
   "outputs": [],
   "source": [
    "def value(a,b=44):\n",
    "    print(a,b)\n",
    "value(11)"
   ]
  },
  {
   "cell_type": "markdown",
   "metadata": {},
   "source": [
    "### 不定长参数"
   ]
  },
  {
   "cell_type": "markdown",
   "metadata": {},
   "source": [
    "在形参添加*args，表示可传多个无变量名的参数，多传的参数以元组方式输出"
   ]
  },
  {
   "cell_type": "code",
   "execution_count": 4,
   "metadata": {},
   "outputs": [
    {
     "name": "stdout",
     "output_type": "stream",
     "text": [
      "--------------------\n",
      "11\n",
      "22\n",
      "(33, 44, 55)\n",
      "--------------------\n",
      "11\n",
      "22\n",
      "(33,)\n",
      "--------------------\n",
      "11\n",
      "22\n",
      "()\n"
     ]
    }
   ],
   "source": [
    "def sum_2_nums(a,b,*args):\n",
    "    print(\"-\"*20)\n",
    "    print(a)\n",
    "    print(b)\n",
    "    print(args)\n",
    "sum_2_nums(11,22,33,44,55)\n",
    "sum_2_nums(11,22,33)\n",
    "sum_2_nums(11,22)"
   ]
  },
  {
   "cell_type": "code",
   "execution_count": 9,
   "metadata": {},
   "outputs": [
    {
     "name": "stdout",
     "output_type": "stream",
     "text": [
      "11\n",
      "22\n",
      "(33, 44, 55)\n",
      "result=165\n"
     ]
    }
   ],
   "source": [
    "#元组转换为数字\n",
    "def sum_2_nums(a,b,*args):\n",
    "    print(a)\n",
    "    print(b)\n",
    "    print(args)\n",
    "    result = a + b\n",
    "    for num in args:\n",
    "        result+=num\n",
    "    print(\"result=%d\"%result)\n",
    "sum_2_nums(11,22,33,44,55)"
   ]
  },
  {
   "cell_type": "markdown",
   "metadata": {},
   "source": [
    "在形参添加**kwargs，表示可传多个有变量名的参数，多传的参数以字典方式输出"
   ]
  },
  {
   "cell_type": "code",
   "execution_count": 3,
   "metadata": {},
   "outputs": [
    {
     "name": "stdout",
     "output_type": "stream",
     "text": [
      "11\n",
      "22\n",
      "(44, 55)\n",
      "{'task': 66, 'done': 77}\n"
     ]
    }
   ],
   "source": [
    "def sum_2_nums(a,b,c=11,*args,**kwargs):\n",
    "    print(a)\n",
    "    print(b)\n",
    "    print(args)\n",
    "    print(kwargs)\n",
    "sum_2_nums(11,22,33,44,55,task=66,done=77)"
   ]
  },
  {
   "cell_type": "markdown",
   "metadata": {},
   "source": [
    "### 拆包、元组、字典"
   ]
  },
  {
   "cell_type": "markdown",
   "metadata": {},
   "source": [
    "如果想传入元组和字典，在元组前面加*，在字典前面加**"
   ]
  },
  {
   "cell_type": "code",
   "execution_count": 11,
   "metadata": {},
   "outputs": [
    {
     "name": "stdout",
     "output_type": "stream",
     "text": [
      "11\n",
      "22\n",
      "(33, 44, 55, 66, 77)\n",
      "{'name': 'laowang', 'age': 18}\n"
     ]
    }
   ],
   "source": [
    "def sum_2_nums(a,b,*args,**kwargs):\n",
    "    print(a)\n",
    "    print(b)\n",
    "    print(args)\n",
    "    print(kwargs)\n",
    "    \n",
    "A = (55,66,77)\n",
    "B = {\"name\":\"laowang\",\"age\":18}\n",
    "sum_2_nums(11,22,33,44,*A,**B) #*和**表示拆包"
   ]
  },
  {
   "cell_type": "markdown",
   "metadata": {},
   "source": [
    "### 引用"
   ]
  },
  {
   "cell_type": "markdown",
   "metadata": {},
   "source": [
    "a = 100，b = a，#a和b都指向100"
   ]
  },
  {
   "cell_type": "markdown",
   "metadata": {},
   "source": [
    "id(a)和id(b)都是同一个地址"
   ]
  },
  {
   "cell_type": "markdown",
   "metadata": {},
   "source": [
    "### 不可变、可变类型"
   ]
  },
  {
   "cell_type": "markdown",
   "metadata": {},
   "source": [
    "1.不可变类型：数字、字符串、元组。可变类型：列表、字典"
   ]
  },
  {
   "cell_type": "markdown",
   "metadata": {},
   "source": [
    "2.字典的key值只能是数字、字符串、元组不可变类型"
   ]
  },
  {
   "cell_type": "markdown",
   "metadata": {},
   "source": [
    "### 递归"
   ]
  },
  {
   "cell_type": "markdown",
   "metadata": {},
   "source": [
    "函数调用函数本身叫做递归"
   ]
  },
  {
   "cell_type": "code",
   "execution_count": 2,
   "metadata": {},
   "outputs": [
    {
     "name": "stdout",
     "output_type": "stream",
     "text": [
      "24\n"
     ]
    }
   ],
   "source": [
    "#5的阶乘：5*4*3*2*1\n",
    "#4的阶乘：4*3*2*1\n",
    "\n",
    "#先是往下递进：4*3的阶乘，3*2的阶乘，2*1的阶乘。再往回返回：最后到1后return给上一个2，2return给3,3return给4\n",
    "def getnums(num):\n",
    "    if num>1:\n",
    "        return num * getnums(num-1)\n",
    "    else:\n",
    "        return num\n",
    "result = getnums(4)\n",
    "print(result)"
   ]
  },
  {
   "cell_type": "markdown",
   "metadata": {},
   "source": [
    "注：递归一定要注意死循环，不然会一直调用，像APP闪退实际是代码问题内存溢出，系统直接杀死了进程"
   ]
  },
  {
   "cell_type": "code",
   "execution_count": null,
   "metadata": {},
   "outputs": [],
   "source": []
  }
 ],
 "metadata": {
  "kernelspec": {
   "display_name": "Python 3",
   "language": "python",
   "name": "python3"
  },
  "language_info": {
   "codemirror_mode": {
    "name": "ipython",
    "version": 3
   },
   "file_extension": ".py",
   "mimetype": "text/x-python",
   "name": "python",
   "nbconvert_exporter": "python",
   "pygments_lexer": "ipython3",
   "version": "3.5.2"
  },
  "toc": {
   "nav_menu": {},
   "number_sections": true,
   "sideBar": true,
   "skip_h1_title": false,
   "toc_cell": false,
   "toc_position": {},
   "toc_section_display": true,
   "toc_window_display": true
  }
 },
 "nbformat": 4,
 "nbformat_minor": 2
}
