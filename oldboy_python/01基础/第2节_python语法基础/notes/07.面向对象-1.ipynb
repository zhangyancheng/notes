{
 "cells": [
  {
   "cell_type": "markdown",
   "metadata": {},
   "source": [
    "### 面向对象和面向过程的区别"
   ]
  },
  {
   "cell_type": "markdown",
   "metadata": {},
   "source": [
    "面向过程：根据业务逻辑从事到下写代码\n",
    "面向对象：将数据和函数绑定到一起,进行封装,这样能够更快速的开发程序,减少了重复代码的重写过程"
   ]
  },
  {
   "cell_type": "markdown",
   "metadata": {},
   "source": [
    "### 类和对象的关系"
   ]
  },
  {
   "cell_type": "markdown",
   "metadata": {},
   "source": [
    "类是看不到摸不着就像一个模型，对象是看得见摸得着就像玩具。类只是一个概念，对象是一个具体的东西"
   ]
  },
  {
   "cell_type": "markdown",
   "metadata": {},
   "source": [
    "类包括类名、属性、方法（def）"
   ]
  },
  {
   "cell_type": "markdown",
   "metadata": {},
   "source": [
    "### 调用对象的方法和给对象添加属性"
   ]
  },
  {
   "cell_type": "code",
   "execution_count": 5,
   "metadata": {},
   "outputs": [
    {
     "name": "stdout",
     "output_type": "stream",
     "text": [
      "猫在吃鱼\n",
      "猫在喝可乐\n"
     ]
    }
   ],
   "source": [
    "class Cat:\n",
    "    \n",
    "    #方法\n",
    "    def eat(self):\n",
    "        print(\"猫在吃鱼\")\n",
    "    def drink(self):\n",
    "        print(\"猫在喝可乐\")\n",
    "#创建一个对象\n",
    "tom = Cat()\n",
    "tom.eat()\n",
    "tom.drink()\n",
    "#给对象添加属性，也就是变量\n",
    "tom.name = \"汤姆\"\n",
    "tom.age = 40"
   ]
  },
  {
   "cell_type": "markdown",
   "metadata": {},
   "source": [
    "### self的用法"
   ]
  },
  {
   "cell_type": "code",
   "execution_count": 7,
   "metadata": {},
   "outputs": [
    {
     "name": "stdout",
     "output_type": "stream",
     "text": [
      "汤姆的年龄是:40\n",
      "蓝猫的年龄是:10\n"
     ]
    }
   ],
   "source": [
    "class Cat:\n",
    "    \n",
    "    #方法\n",
    "    def eat(self):\n",
    "        print(\"猫在吃鱼\")\n",
    "    def drink(self):\n",
    "        print(\"猫在喝可乐\")\n",
    "    def introduce(self):\n",
    "        print(\"%s的年龄是:%d\"%(self.name,self.age))    #通过哪个调用self就是指向谁\n",
    "\n",
    "tom = Cat()\n",
    "tom.name = \"汤姆\"\n",
    "tom.age = 40\n",
    "tom.introduce()\n",
    "\n",
    "lanmao = Cat()\n",
    "lanmao.name = \"蓝猫\"\n",
    "lanmao.age = 10\n",
    "lanmao.introduce()"
   ]
  },
  {
   "cell_type": "markdown",
   "metadata": {},
   "source": [
    "### _ _init_ _方法"
   ]
  },
  {
   "cell_type": "code",
   "execution_count": null,
   "metadata": {},
   "outputs": [],
   "source": [
    "class Cat:\n",
    "    \"\"\"定义了一个Cat类\"\"\"\n",
    "    \n",
    "    #初始化对象，调用类里的方法时会自动调用\n",
    "    def __init__(self):\n",
    "        print(\"---开始---\")\n",
    "    \n",
    "    #方法\n",
    "    def eat(self):\n",
    "        print(\"猫在吃鱼\")\n",
    "    def drink(self):\n",
    "        print(\"猫在喝可乐\")\n",
    "    def introduce(self):\n",
    "        print(\"%s的年龄是:%d\"%(self.name,self.age))    #通过哪个调用self就是指向谁\n",
    "\n",
    "tom = Cat()\n",
    "tom.name = \"汤姆\"\n",
    "tom.age = 40\n",
    "tom.introduce()\n",
    "\n",
    "lanmao = Cat()\n",
    "lanmao.name = \"蓝猫\"\n",
    "lanmao.age = 10\n",
    "lanmao.introduce()"
   ]
  },
  {
   "cell_type": "markdown",
   "metadata": {},
   "source": [
    "### 调用_ _init_ _方法的流程"
   ]
  },
  {
   "cell_type": "code",
   "execution_count": 8,
   "metadata": {},
   "outputs": [
    {
     "name": "stdout",
     "output_type": "stream",
     "text": [
      "汤姆的年龄是:40\n",
      "蓝猫的年龄是:10\n"
     ]
    }
   ],
   "source": [
    "class Cat:\n",
    "    \"\"\"定义了一个Cat类\"\"\"\n",
    "    \n",
    "    #初始化对象，调用类里的方法时会自动调用\n",
    "    def __init__(self,new_name,new_age):\n",
    "        self.name = new_name  #所调对象的变量\n",
    "        self.age = new_age\n",
    "    \n",
    "    #方法\n",
    "    def eat(self):\n",
    "        print(\"猫在吃鱼\")\n",
    "    def drink(self):\n",
    "        print(\"猫在喝可乐\")\n",
    "    def introduce(self):\n",
    "        print(\"%s的年龄是:%d\"%(self.name,self.age))    #通过哪个调用self就是指向谁\n",
    "\n",
    "tom = Cat(\"汤姆\",40)\n",
    "tom.introduce()\n",
    "\n",
    "lanmao = Cat(\"蓝猫\",10)\n",
    "lanmao.introduce()"
   ]
  },
  {
   "cell_type": "markdown",
   "metadata": {},
   "source": [
    "### 调用_ _str_ _方法"
   ]
  },
  {
   "cell_type": "code",
   "execution_count": 11,
   "metadata": {},
   "outputs": [
    {
     "name": "stdout",
     "output_type": "stream",
     "text": [
      "汤姆的年龄是:40\n",
      "蓝猫的年龄是:10\n"
     ]
    }
   ],
   "source": [
    "class Cat:\n",
    "    \"\"\"定义了一个Cat类\"\"\"\n",
    "    \n",
    "    #初始化对象，调用类里的方法时会自动调用\n",
    "    def __init__(self,new_name,new_age):\n",
    "        self.name = new_name  #所调对象的变量\n",
    "        self.age = new_age\n",
    "    #当创建一个对象调用时，默认返回值\n",
    "    def __str__(self):\n",
    "        return \"%s的年龄是:%d\"%(self.name,self.age)  #此处的name、age是调用对象的变量\n",
    "    \n",
    "    #方法\n",
    "    def eat(self):\n",
    "        print(\"猫在吃鱼\")\n",
    "    def drink(self):\n",
    "        print(\"猫在喝可乐\")\n",
    "    def introduce(self):\n",
    "        print(\"%s的年龄是:%d\"%(self.name,self.age))    #通过哪个调用self就是指向谁\n",
    "\n",
    "tom = Cat(\"汤姆\",40)\n",
    "lanmao = Cat(\"蓝猫\",10)\n",
    "print(tom)\n",
    "print(lanmao)"
   ]
  },
  {
   "cell_type": "markdown",
   "metadata": {},
   "source": [
    "### 烤地瓜功能"
   ]
  },
  {
   "cell_type": "code",
   "execution_count": 1,
   "metadata": {},
   "outputs": [
    {
     "name": "stdout",
     "output_type": "stream",
     "text": [
      "地瓜 状态:生的(0),添加的作料有:[]\n",
      "地瓜 状态:生的(1),添加的作料有:[]\n",
      "地瓜 状态:生的(2),添加的作料有:[]\n",
      "地瓜 状态:半生不熟(3),添加的作料有:['大蒜']\n",
      "地瓜 状态:半生不熟(4),添加的作料有:['大蒜', '番茄酱']\n",
      "地瓜 状态:熟了(5),添加的作料有:['大蒜', '番茄酱']\n",
      "地瓜 状态:熟了(6),添加的作料有:['大蒜', '番茄酱', '孜然']\n",
      "地瓜 状态:熟了(7),添加的作料有:['大蒜', '番茄酱', '孜然']\n",
      "地瓜 状态:熟了(8),添加的作料有:['大蒜', '番茄酱', '孜然', '芥末']\n",
      "地瓜 状态:烤糊了(9),添加的作料有:['大蒜', '番茄酱', '孜然', '芥末']\n",
      "地瓜 状态:烤糊了(10),添加的作料有:['大蒜', '番茄酱', '孜然', '芥末']\n",
      "地瓜 状态:烤糊了(11),添加的作料有:['大蒜', '番茄酱', '孜然', '芥末']\n"
     ]
    }
   ],
   "source": [
    "class SweetPotato:\n",
    "    \"\"\"定义了一个地瓜类\"\"\"\n",
    "    def __init__(self):\n",
    "        self.cookedString = \"生的\"\n",
    "        self.cookedLevel = 0\n",
    "        self.condiments = []#为了能够存储多个数据,往往在开发中让一个属性是列表\n",
    "\n",
    "    def __str__(self):\n",
    "        return \"地瓜 状态:%s(%d),添加的作料有:%s\"%(self.cookedString, self.cookedLevel, str(self.condiments))\n",
    "\n",
    "    def cook(self, cooked_time):\n",
    "\n",
    "        #因为这个方法被调用了多次,为了能够在一次调用这个方法的时候 能够 获取到上一次调用这个方法时的cooked_time\n",
    "        #所以 需要在此,把cooked_time保存到这个对象的属性中,因为属性不会随着方法的调用而结束(一个方法被调用的时候\n",
    "        #是可以用局部变量来保存数据的,但是当这个方法定义结束之后这个方法中的所有数据就没有了)\n",
    "        self.cookedLevel += cooked_time\n",
    "\n",
    "        if self.cookedLevel >=0 and self.cookedLevel<3:\n",
    "            self.cookedString = \"生的\"\n",
    "        elif self.cookedLevel >=3 and self.cookedLevel<5:\n",
    "            self.cookedString = \"半生不熟\"\n",
    "        elif self.cookedLevel >=5 and self.cookedLevel<8:\n",
    "            self.cookedString = \"熟了\"\n",
    "        elif self.cookedLevel>8:\n",
    "            self.cookedString = \"烤糊了\"\n",
    "\n",
    "    def addCondiments(self, item):\n",
    "        #因为item这个变量指向了一个 作料,所以 接下来需要将item放到append里面\n",
    "        self.condiments.append(item)\n",
    "\n",
    "\n",
    "#创建了一个地瓜对象\n",
    "di_gua = SweetPotato()\n",
    "print(di_gua)\n",
    "\n",
    "#开始烤地瓜\n",
    "di_gua.cook(1)\n",
    "print(di_gua)\n",
    "di_gua.cook(1)\n",
    "print(di_gua)\n",
    "di_gua.addCondiments(\"大蒜\")\n",
    "di_gua.cook(1)\n",
    "print(di_gua)\n",
    "di_gua.cook(1)\n",
    "di_gua.addCondiments(\"番茄酱\")\n",
    "print(di_gua)\n",
    "di_gua.cook(1)\n",
    "print(di_gua)\n",
    "di_gua.cook(1)\n",
    "di_gua.addCondiments(\"孜然\")\n",
    "print(di_gua)\n",
    "di_gua.cook(1)\n",
    "print(di_gua)\n",
    "di_gua.addCondiments(\"芥末\")\n",
    "di_gua.cook(1)\n",
    "print(di_gua)\n",
    "di_gua.cook(1)\n",
    "print(di_gua)\n",
    "di_gua.cook(1)\n",
    "print(di_gua)\n",
    "di_gua.cook(1)\n",
    "print(di_gua)\n"
   ]
  },
  {
   "cell_type": "markdown",
   "metadata": {},
   "source": [
    "### 存放家具功能"
   ]
  },
  {
   "cell_type": "code",
   "execution_count": 2,
   "metadata": {},
   "outputs": [
    {
     "name": "stdout",
     "output_type": "stream",
     "text": [
      "房子的总面积是:129,可用面积是:129,户型是:三室一厅,地址是:北京市 朝阳区 长安街 666号 当前房子里的物品有[]\n",
      "席梦思占用的面积是:4\n",
      "房子的总面积是:129,可用面积是:125,户型是:三室一厅,地址是:北京市 朝阳区 长安街 666号 当前房子里的物品有['席梦思']\n",
      "房子的总面积是:129,可用面积是:122,户型是:三室一厅,地址是:北京市 朝阳区 长安街 666号 当前房子里的物品有['席梦思', '三人床']\n"
     ]
    }
   ],
   "source": [
    "class Home:\n",
    "    def __init__(self, new_area, new_info, new_addr):\n",
    "        self.area = new_area\n",
    "        self.info = new_info\n",
    "        self.addr = new_addr\n",
    "        self.left_area = new_area\n",
    "        self.contain_items = []\n",
    "\n",
    "    def __str__(self):\n",
    "        msg = \"房子的总面积是:%d,可用面积是:%d,户型是:%s,地址是:%s\"%(self.area, self.left_area, self.info, self.addr)\n",
    "        msg += \" 当前房子里的物品有%s\"%(str(self.contain_items))\n",
    "        return msg\n",
    "\n",
    "    def add_item(self, item):\n",
    "        #self.left_area -= item.area\n",
    "        #self.contain_items.append(item.name)\n",
    "\n",
    "        self.left_area -= item.get_area()\n",
    "        self.contain_items.append(item.get_name())\n",
    "\n",
    "class Bed:\n",
    "    def __init__(self, new_name, new_area):\n",
    "        self.name = new_name\n",
    "        self.area = new_area\n",
    "\n",
    "    def __str__(self):\n",
    "        return \"%s占用的面积是:%d\"%(self.name, self.area)\n",
    "\n",
    "    def get_area(self):\n",
    "        return self.area\n",
    "\n",
    "    def get_name(self):\n",
    "        return self.name\n",
    "\n",
    "fangzi = Home(129, \"三室一厅\", \"北京市 朝阳区 长安街 666号\")\n",
    "print(fangzi)\n",
    "\n",
    "\n",
    "bed1 = Bed(\"席梦思\", 4)\n",
    "print(bed1)\n",
    "\n",
    "fangzi.add_item(bed1)\n",
    "print(fangzi)\n",
    "\n",
    "bed2 = Bed(\"三人床\",3)\n",
    "fangzi.add_item(bed2)\n",
    "print(fangzi)\n"
   ]
  },
  {
   "cell_type": "code",
   "execution_count": null,
   "metadata": {},
   "outputs": [],
   "source": []
  }
 ],
 "metadata": {
  "kernelspec": {
   "display_name": "Python 3",
   "language": "python",
   "name": "python3"
  },
  "language_info": {
   "codemirror_mode": {
    "name": "ipython",
    "version": 3
   },
   "file_extension": ".py",
   "mimetype": "text/x-python",
   "name": "python",
   "nbconvert_exporter": "python",
   "pygments_lexer": "ipython3",
   "version": "3.6.0"
  },
  "toc": {
   "nav_menu": {},
   "number_sections": true,
   "sideBar": true,
   "skip_h1_title": false,
   "title_cell": "Table of Contents",
   "title_sidebar": "Contents",
   "toc_cell": false,
   "toc_position": {
    "height": "calc(100% - 180px)",
    "left": "10px",
    "top": "150px",
    "width": "384px"
   },
   "toc_section_display": true,
   "toc_window_display": true
  }
 },
 "nbformat": 4,
 "nbformat_minor": 2
}
