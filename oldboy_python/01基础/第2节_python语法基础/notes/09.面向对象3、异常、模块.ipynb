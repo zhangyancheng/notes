{
 "cells": [
  {
   "cell_type": "markdown",
   "metadata": {},
   "source": [
    "### 设计4s店类"
   ]
  },
  {
   "cell_type": "code",
   "execution_count": null,
   "metadata": {},
   "outputs": [],
   "source": [
    "class CarStore(object):\n",
    "    def order(self, car_type):\n",
    "        if car_type==\"索纳塔\":\n",
    "            return Suonata()\n",
    "        elif car_type==\"名图\":\n",
    "            return Mingtu()\n",
    "        elif car_type==\"ix35\":\n",
    "            return Ix35()\n",
    "\n",
    "class Car(object):\n",
    "    def move(self):\n",
    "        print(\"车在移动....\")\n",
    "    def music(self):\n",
    "        print(\"正在播放音乐....\")\n",
    "    def stop(self):\n",
    "        print(\"车在停止....\")\n",
    "\n",
    "class Suonata(Car):\n",
    "    pass\n",
    "\n",
    "class Mingtu(Car):\n",
    "    pass\n",
    "\n",
    "class Ix35(Car):\n",
    "    pass\n",
    "\n",
    "car_store = CarStore()\n",
    "car = car_store.order(\"索纳塔\")\n",
    "car.move()\n",
    "car.music()\n",
    "car.stop()"
   ]
  },
  {
   "cell_type": "markdown",
   "metadata": {},
   "source": [
    "### 设计4s店类--使用函数完成解耦"
   ]
  },
  {
   "cell_type": "markdown",
   "metadata": {},
   "source": [
    "不更改类本身，通过更改函数"
   ]
  },
  {
   "cell_type": "code",
   "execution_count": 2,
   "metadata": {},
   "outputs": [
    {
     "name": "stdout",
     "output_type": "stream",
     "text": [
      "车在移动....\n",
      "正在播放音乐....\n",
      "车在停止....\n"
     ]
    }
   ],
   "source": [
    "class CarStore(object):\n",
    "\tdef order(self, car_type):\n",
    "\t\treturn select_car_by_type(car_type)\n",
    "#函数解耦\n",
    "def select_car_by_type(car_type):\n",
    "\tif car_type==\"索纳塔\":\n",
    "\t\treturn Suonata()\n",
    "\telif car_type==\"名图\":\n",
    "\t\treturn Mingtu()\n",
    "\telif car_type==\"ix35\":\n",
    "\t\treturn Ix35()\n",
    "\n",
    "class Car(object):\n",
    "\tdef move(self):\n",
    "\t\tprint(\"车在移动....\")\n",
    "\tdef music(self):\n",
    "\t\tprint(\"正在播放音乐....\")\n",
    "\tdef stop(self):\n",
    "\t\tprint(\"车在停止....\")\n",
    "\n",
    "class Suonata(Car):\n",
    "\tpass\n",
    "\n",
    "class Mingtu(Car):\n",
    "\tpass\n",
    "\n",
    "class Ix35(Car):\n",
    "\tpass\n",
    "\n",
    "car_store = CarStore()\n",
    "car = car_store.order(\"索纳塔\")\n",
    "car.move()\n",
    "car.music()\n",
    "car.stop()"
   ]
  },
  {
   "cell_type": "markdown",
   "metadata": {},
   "source": [
    "### 设计4s店类--使用类完成解耦--简单工厂模式"
   ]
  },
  {
   "cell_type": "code",
   "execution_count": 3,
   "metadata": {},
   "outputs": [
    {
     "name": "stdout",
     "output_type": "stream",
     "text": [
      "车在移动....\n",
      "正在播放音乐....\n",
      "车在停止....\n"
     ]
    }
   ],
   "source": [
    "class CarStore(object):\n",
    "\n",
    "\tdef __init__(self):\n",
    "\t\tself.factory = Factory()\n",
    "\n",
    "\tdef order(self, car_type):\n",
    "\t\treturn self.factory.select_car_by_type(car_type)\n",
    "\n",
    "class Factory(object):\n",
    "\tdef select_car_by_type(self, car_type):\n",
    "\t\tif car_type==\"索纳塔\":\n",
    "\t\t\treturn Suonata()\n",
    "\t\telif car_type==\"名图\":\n",
    "\t\t\treturn Mingtu()\n",
    "\t\telif car_type==\"ix35\":\n",
    "\t\t\treturn Ix35()\n",
    "\n",
    "class Car(object):\n",
    "\tdef move(self):\n",
    "\t\tprint(\"车在移动....\")\n",
    "\tdef music(self):\n",
    "\t\tprint(\"正在播放音乐....\")\n",
    "\tdef stop(self):\n",
    "\t\tprint(\"车在停止....\")\n",
    "\n",
    "class Suonata(Car):\n",
    "\tpass\n",
    "\n",
    "class Mingtu(Car):\n",
    "\tpass\n",
    "\n",
    "class Ix35(Car):\n",
    "\tpass\n",
    "\n",
    "car_store = CarStore()\n",
    "car = car_store.order(\"索纳塔\")\n",
    "car.move()\n",
    "car.music()\n",
    "car.stop()"
   ]
  },
  {
   "cell_type": "markdown",
   "metadata": {},
   "source": [
    "### 设计4s店类--工厂方法模式"
   ]
  },
  {
   "cell_type": "markdown",
   "metadata": {},
   "source": [
    "在基类里面已经设计好运行流程，子类去完成特定功能，"
   ]
  },
  {
   "cell_type": "code",
   "execution_count": null,
   "metadata": {},
   "outputs": [],
   "source": [
    "class Store(object):\n",
    "\n",
    "\tdef select_car(self):\n",
    "\t\tpass\n",
    "\n",
    "\tdef order(self, car_type):\n",
    "\t\treturn self.select_car(car_type)    #调用对象BMWFactory的select_car方法\n",
    "\n",
    "class BMWCarStore(Store):\n",
    "\tdef select_car(self, car_type):\n",
    "\t\treturn BMWFactory().select_car_by_type(car_type)\n",
    "\n",
    "class BMWFactory(object):\n",
    "\tdef select_car_by_type(self, car_type):\n",
    "\t\tpass\n",
    "\t\t# if car_type==\"mini\":\n",
    "\t\t# \treturn Suonata()\n",
    "\t\t# elif car_type==\"720li\":\n",
    "\t\t# \treturn Mingtu()\n",
    "\t\t# elif car_type==\"x6\":\n",
    "\t\t# \treturn Ix35()\n",
    "\n",
    "bmw_store = BMWCarStore()\n",
    "bmw = bmw_store.order(\"720li\")\n",
    "\n",
    "\n",
    "\n",
    "class CarStore(Store):\n",
    "\tdef select_car(self, car_type):\n",
    "\t\treturn Factory().select_car_by_type(car_type)\n",
    "\n",
    "class Factory(object):\n",
    "\tdef select_car_by_type(self, car_type):\n",
    "\t\tif car_type==\"索纳塔\":\n",
    "\t\t\treturn Suonata()\n",
    "\t\telif car_type==\"名图\":\n",
    "\t\t\treturn Mingtu()\n",
    "\t\telif car_type==\"ix35\":\n",
    "\t\t\treturn Ix35()\n",
    "\n",
    "class Car(object):\n",
    "\tdef move(self):\n",
    "\t\tprint(\"车在移动....\")\n",
    "\tdef music(self):\n",
    "\t\tprint(\"正在播放音乐....\")\n",
    "\tdef stop(self):\n",
    "\t\tprint(\"车在停止....\")\n",
    "\n",
    "class Suonata(Car):\n",
    "\tpass\n",
    "\n",
    "class Mingtu(Car):\n",
    "\tpass\n",
    "\n",
    "class Ix35(Car):\n",
    "\tpass\n",
    "\n",
    "car_store = CarStore()\n",
    "car = car_store.order(\"索纳塔\")\n",
    "car.move()\n",
    "car.music()\n",
    "car.stop()"
   ]
  },
  {
   "cell_type": "markdown",
   "metadata": {},
   "source": [
    "###  _ _new_ _方法"
   ]
  },
  {
   "cell_type": "code",
   "execution_count": null,
   "metadata": {},
   "outputs": [],
   "source": [
    "__new__方法只负责创建,__init__方法只负责初始化,先调new返回结果再去掉init返回结果"
   ]
  },
  {
   "cell_type": "code",
   "execution_count": 4,
   "metadata": {},
   "outputs": [
    {
     "name": "stdout",
     "output_type": "stream",
     "text": [
      "----new方法-----\n",
      "----init方法-----\n"
     ]
    }
   ],
   "source": [
    "class Dog(object):\n",
    "    def __init__(self):\n",
    "        print(\"----init方法-----\")\n",
    "\n",
    "    def __del__(self):\n",
    "        print(\"----del方法-----\")\n",
    "\n",
    "    def __str__(self):\n",
    "        print(\"----str方法-----\")\n",
    "        return \"对象的描述信息\"\n",
    "\n",
    "    def __new__(cls): #cls此时是Dog指向的那个类对象\n",
    "\n",
    "        #print(id(cls))\n",
    "\n",
    "        print(\"----new方法-----\")\n",
    "        return object.__new__(cls)  #调用父类\n",
    "\n",
    "\n",
    "#print(id(Dog))\n",
    "\n",
    "xtq = Dog()"
   ]
  },
  {
   "cell_type": "markdown",
   "metadata": {},
   "source": [
    "### 创建单例对象"
   ]
  },
  {
   "cell_type": "markdown",
   "metadata": {},
   "source": [
    "不管创建多少次，只有一个对象"
   ]
  },
  {
   "cell_type": "code",
   "execution_count": null,
   "metadata": {},
   "outputs": [],
   "source": [
    "class Dog(object):\n",
    "\n",
    "    __instance = None\n",
    "\n",
    "    def __new__(cls):\n",
    "        if cls.__instance == None:\n",
    "            cls.__instance = object.__new__(cls)  #赋值另外一个属性\n",
    "            return cls.__instance\n",
    "        else:\n",
    "            #return 上一次创建的对象的引用\n",
    "            return cls.__instance\n",
    "\n",
    "a = Dog()\n",
    "print(id(a))\n",
    "b = Dog()\n",
    "print(id(b))\n"
   ]
  },
  {
   "cell_type": "markdown",
   "metadata": {},
   "source": [
    "### 只初始化一次对象"
   ]
  },
  {
   "cell_type": "code",
   "execution_count": null,
   "metadata": {},
   "outputs": [],
   "source": [
    "__new__方法和__init__方法是分开的，虽然__new__方法只被调用了一次，但是__init__方法还是会完成第二次\n",
    "的初始化"
   ]
  },
  {
   "cell_type": "code",
   "execution_count": 1,
   "metadata": {},
   "outputs": [
    {
     "name": "stdout",
     "output_type": "stream",
     "text": [
      "73982304\n",
      "旺财\n",
      "73982304\n",
      "哮天犬\n"
     ]
    }
   ],
   "source": [
    "#初始化两次对象\n",
    "class Dog(object):\n",
    "    \n",
    "    __instance = None\n",
    "    def __new__(cls, name):  #需写一个参数\n",
    "        if cls.__instance == None:\n",
    "            cls.__instance = object.__new__(cls)\n",
    "            return cls.__instance\n",
    "        else:\n",
    "            #return 上一次创建的对象的引用\n",
    "            return cls.__instance\n",
    "\n",
    "    def __init__(self, name):\n",
    "            self.name = name\n",
    "\n",
    "a = Dog(\"旺财\")\n",
    "print(id(a))\n",
    "print(a.name)\n",
    "\n",
    "b = Dog(\"哮天犬\")\n",
    "print(id(b))\n",
    "print(b.name)"
   ]
  },
  {
   "cell_type": "code",
   "execution_count": 2,
   "metadata": {},
   "outputs": [
    {
     "name": "stdout",
     "output_type": "stream",
     "text": [
      "73982808\n",
      "旺财\n",
      "73982808\n",
      "旺财\n"
     ]
    }
   ],
   "source": [
    "#初始化一次对象\n",
    "class Dog(object):\n",
    "\n",
    "    __instance = None\n",
    "    __init_flag = False\n",
    "\n",
    "    def __new__(cls, name):\n",
    "        if cls.__instance == None:\n",
    "            cls.__instance = object.__new__(cls)\n",
    "            return cls.__instance\n",
    "        else:\n",
    "            #return 上一次创建的对象的引用\n",
    "            return cls.__instance\n",
    "\n",
    "    def __init__(self, name):\n",
    "        #新增一个属性，当第二次调用__init_flag为True不再初始化\n",
    "        if Dog.__init_flag == False:\n",
    "            self.name = name\n",
    "            Dog.__init_flag = True\n",
    "\n",
    "\n",
    "a = Dog(\"旺财\")\n",
    "print(id(a))\n",
    "print(a.name)\n",
    "\n",
    "b = Dog(\"哮天犬\")\n",
    "print(id(b))\n",
    "print(b.name)"
   ]
  },
  {
   "cell_type": "markdown",
   "metadata": {},
   "source": [
    "### 异常处理--基本功能"
   ]
  },
  {
   "cell_type": "markdown",
   "metadata": {},
   "source": [
    "except名字与实际报错名写一致，比如NameError"
   ]
  },
  {
   "cell_type": "code",
   "execution_count": 1,
   "metadata": {},
   "outputs": [
    {
     "name": "stdout",
     "output_type": "stream",
     "text": [
      "xxx:111\n",
      "-----1----\n",
      "没有异常才会执行的功能\n",
      "------finally-----\n",
      "-----2----\n"
     ]
    }
   ],
   "source": [
    "#coding=utf-8\n",
    "\n",
    "try:\n",
    "    num = input(\"xxx:\")\n",
    "    int(num)\n",
    "    #11/0\n",
    "    #open(\"xxx.txt\")\n",
    "    #print(num)\n",
    "    print(\"-----1----\")\n",
    "\n",
    "except (NameError,FileNotFoundError):   #捕获多个异常\n",
    "    print(\"如果捕获到异常后做的 处理....\")\n",
    "except Exception as ret:  #不知道异常名用这种写法，所有异常的总称\n",
    "    print(\"如果用了Exception,那么意味着只要上面的except没有捕获到异常,这个except一定会捕获到\")\n",
    "    print(ret)     #打印异常名\n",
    "else:\n",
    "    print(\"没有异常才会执行的功能\")\n",
    "finally:  #有无异常都会执行，比如判断一个文件异常不管有无异常最后都加finally使其关闭文件\n",
    "    print(\"------finally-----\")\n",
    "\n",
    "print(\"-----2----\")\n"
   ]
  },
  {
   "cell_type": "markdown",
   "metadata": {},
   "source": [
    "### 异常的传递"
   ]
  },
  {
   "cell_type": "code",
   "execution_count": null,
   "metadata": {},
   "outputs": [],
   "source": [
    "def test1():\n",
    "    print(\"__test1__\")\n",
    "    print(num)\n",
    "    \n",
    "def test3():\n",
    "    try:\n",
    "        print(\"__test3__\")\n",
    "        test1()           #传递异常，不会报错\n",
    "        print(\"__test_2__\")\n",
    "    except Exception as result:\n",
    "        print(\"捕获到异常\")\n",
    "    print(\"__test_3__\")\n",
    "\n",
    "test3()"
   ]
  },
  {
   "cell_type": "markdown",
   "metadata": {},
   "source": [
    "### 抛出自定义异常"
   ]
  },
  {
   "cell_type": "code",
   "execution_count": 5,
   "metadata": {},
   "outputs": [
    {
     "name": "stdout",
     "output_type": "stream",
     "text": [
      "请输入:1\n",
      "ShortInputException:输入的长度是1,长度至少应是3\n"
     ]
    }
   ],
   "source": [
    "class ShortInputException(Exception):\n",
    "    \"\"\"自定义的异常类\"\"\"\n",
    "    def __init__(self,length,atleast):\n",
    "        self.length = length\n",
    "        self.atleast = atleast\n",
    "        \n",
    "def main():\n",
    "    try:\n",
    "        s = input(\"请输入:\")\n",
    "        if len(s) < 3:\n",
    "            #raise引发一个你定义的异常\n",
    "            raise ShortInputException(len(s),3)   #传到变量length、atleas\n",
    "    except ShortInputException as result:   #result变量绑定到了错误的实例ShortInputException()\n",
    "        print(\"ShortInputException:输入的长度是%d,长度至少应是%d\"%(result.length,result.atleast))\n",
    "    else:\n",
    "        print(\"没有异常发生\")\n",
    "\n",
    "main()    "
   ]
  },
  {
   "cell_type": "markdown",
   "metadata": {},
   "source": [
    "### 异常处理中抛出异常"
   ]
  },
  {
   "cell_type": "code",
   "execution_count": 13,
   "metadata": {},
   "outputs": [
    {
     "name": "stdout",
     "output_type": "stream",
     "text": [
      "捕获开启，已经捕获到了异常，信息如下:\n",
      "division by zero\n",
      "-------分割线-------\n"
     ]
    },
    {
     "ename": "ZeroDivisionError",
     "evalue": "division by zero",
     "output_type": "error",
     "traceback": [
      "\u001b[1;31m---------------------------------------------------------------------------\u001b[0m",
      "\u001b[1;31mZeroDivisionError\u001b[0m                         Traceback (most recent call last)",
      "\u001b[1;32m<ipython-input-13-216cf37710c5>\u001b[0m in \u001b[0;36m<module>\u001b[1;34m()\u001b[0m\n\u001b[0;32m     17\u001b[0m \u001b[0mprint\u001b[0m\u001b[1;33m(\u001b[0m\u001b[1;34m\"-------分割线-------\"\u001b[0m\u001b[1;33m)\u001b[0m\u001b[1;33m\u001b[0m\u001b[0m\n\u001b[0;32m     18\u001b[0m \u001b[0ma\u001b[0m\u001b[1;33m.\u001b[0m\u001b[0mswitch\u001b[0m \u001b[1;33m=\u001b[0m \u001b[1;32mFalse\u001b[0m\u001b[1;33m\u001b[0m\u001b[0m\n\u001b[1;32m---> 19\u001b[1;33m \u001b[0ma\u001b[0m\u001b[1;33m.\u001b[0m\u001b[0mcalc\u001b[0m\u001b[1;33m(\u001b[0m\u001b[1;36m11\u001b[0m\u001b[1;33m,\u001b[0m\u001b[1;36m0\u001b[0m\u001b[1;33m)\u001b[0m\u001b[1;33m\u001b[0m\u001b[0m\n\u001b[0m",
      "\u001b[1;32m<ipython-input-13-216cf37710c5>\u001b[0m in \u001b[0;36mcalc\u001b[1;34m(self, a, b)\u001b[0m\n\u001b[0;32m      4\u001b[0m     \u001b[1;32mdef\u001b[0m \u001b[0mcalc\u001b[0m\u001b[1;33m(\u001b[0m\u001b[0mself\u001b[0m\u001b[1;33m,\u001b[0m\u001b[0ma\u001b[0m\u001b[1;33m,\u001b[0m\u001b[0mb\u001b[0m\u001b[1;33m)\u001b[0m\u001b[1;33m:\u001b[0m\u001b[1;33m\u001b[0m\u001b[0m\n\u001b[0;32m      5\u001b[0m         \u001b[1;32mtry\u001b[0m\u001b[1;33m:\u001b[0m\u001b[1;33m\u001b[0m\u001b[0m\n\u001b[1;32m----> 6\u001b[1;33m             \u001b[1;32mreturn\u001b[0m \u001b[0ma\u001b[0m\u001b[1;33m/\u001b[0m\u001b[0mb\u001b[0m\u001b[1;33m\u001b[0m\u001b[0m\n\u001b[0m\u001b[0;32m      7\u001b[0m         \u001b[1;32mexcept\u001b[0m \u001b[0mException\u001b[0m \u001b[1;32mas\u001b[0m \u001b[0mresult\u001b[0m\u001b[1;33m:\u001b[0m\u001b[1;33m\u001b[0m\u001b[0m\n\u001b[0;32m      8\u001b[0m             \u001b[1;32mif\u001b[0m \u001b[0mself\u001b[0m\u001b[1;33m.\u001b[0m\u001b[0mswitch\u001b[0m\u001b[1;33m:\u001b[0m\u001b[1;33m\u001b[0m\u001b[0m\n",
      "\u001b[1;31mZeroDivisionError\u001b[0m: division by zero"
     ]
    }
   ],
   "source": [
    "class Test(object):\n",
    "    def __init__(self,switch):\n",
    "        self.switch = switch\n",
    "    def calc(self,a,b):\n",
    "        try:\n",
    "            return a/b\n",
    "        except Exception as result:\n",
    "            if self.switch:\n",
    "                print(\"捕获开启，已经捕获到了异常，信息如下:\")\n",
    "                print(result)\n",
    "            else:\n",
    "                #重新抛出这个异常，此时就不会被这个异常处理后捕捉到，从而触发默认的异常处理\n",
    "                raise\n",
    "                \n",
    "a = Test(True)\n",
    "a.calc(11,0)\n",
    "print(\"-------分割线-------\")\n",
    "a.switch = False\n",
    "a.calc(11,0)      "
   ]
  },
  {
   "cell_type": "markdown",
   "metadata": {},
   "source": [
    "### if的真假判断"
   ]
  },
  {
   "cell_type": "code",
   "execution_count": null,
   "metadata": {},
   "outputs": [],
   "source": [
    "if xxx == yyy:   #表示条件满足\n",
    "if xxx:          #表示真假\n",
    "\n",
    "#条件为假\n",
    "if False:\n",
    "if \"\":\n",
    "if None:\n",
    "if 0:\n",
    "if []:\n",
    "if {}:"
   ]
  },
  {
   "cell_type": "markdown",
   "metadata": {},
   "source": [
    "### 模块的介绍"
   ]
  },
  {
   "cell_type": "code",
   "execution_count": null,
   "metadata": {},
   "outputs": [],
   "source": [
    "#打印模块路径\n",
    "import os\n",
    "os.__file__\n",
    "\n",
    "if __name__ == \"__main__\":\n",
    "    main()"
   ]
  }
 ],
 "metadata": {
  "kernelspec": {
   "display_name": "Python 3",
   "language": "python",
   "name": "python3"
  },
  "language_info": {
   "codemirror_mode": {
    "name": "ipython",
    "version": 3
   },
   "file_extension": ".py",
   "mimetype": "text/x-python",
   "name": "python",
   "nbconvert_exporter": "python",
   "pygments_lexer": "ipython3",
   "version": "3.6.0"
  },
  "toc": {
   "nav_menu": {},
   "number_sections": true,
   "sideBar": true,
   "skip_h1_title": false,
   "title_cell": "Table of Contents",
   "title_sidebar": "Contents",
   "toc_cell": false,
   "toc_position": {
    "height": "calc(100% - 180px)",
    "left": "10px",
    "top": "150px",
    "width": "384px"
   },
   "toc_section_display": "block",
   "toc_window_display": true
  }
 },
 "nbformat": 4,
 "nbformat_minor": 2
}
